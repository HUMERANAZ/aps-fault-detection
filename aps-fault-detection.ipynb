{
 "cells": [
  {
   "cell_type": "markdown",
   "id": "b8a6754d",
   "metadata": {
    "papermill": {
     "duration": 0.011967,
     "end_time": "2025-04-04T09:49:58.355778",
     "exception": false,
     "start_time": "2025-04-04T09:49:58.343811",
     "status": "completed"
    },
    "tags": []
   },
   "source": [
    "# Air Pressure System(APS) failure in Scania Trucks Prediction"
   ]
  },
  {
   "cell_type": "markdown",
   "id": "ff11dfb8",
   "metadata": {
    "papermill": {
     "duration": 0.011146,
     "end_time": "2025-04-04T09:49:58.378282",
     "exception": false,
     "start_time": "2025-04-04T09:49:58.367136",
     "status": "completed"
    },
    "tags": []
   },
   "source": [
    "### 1) Problem Statement\n",
    "\n",
    "The dataset consists of data collected from heavy Scania trucks during everyday usage. The system in focus is the **Air Pressure System (APS)**, which generates pressurised air used in various truck functions, such as braking and gear changes.\n",
    "\n",
    "- The **positive class** corresponds to component failures in a specific part of the APS system.\n",
    "- The **negative class** corresponds to failures in components **not** related to the APS system.\n",
    "- The dataset includes a **subset of all available data**, selected by domain experts.\n",
    "\n",
    "---\n",
    "\n",
    "### 📊 Challenge Metric\n",
    "\n",
    "**Cost-metric of Misclassification:**\n",
    "\n",
    "| Predicted Class | True: pos | True: neg |\n",
    "|-----------------|-----------|-----------|\n",
    "| **pos**         |     -     |  Cost_1 = 10  |\n",
    "| **neg**         |  Cost_2 = 500 |     -     |\n",
    "\n",
    "- **Cost_1**: Cost incurred due to unnecessary mechanic inspection.\n",
    "- **Cost_2**: Cost incurred by **missing a faulty truck**, potentially leading to breakdowns.\n",
    "\n",
    "🔸 **Total Cost Formula:**\n",
    "\n",
    "\\[\n",
    "\\text{Total\\_cost} = (\\text{Cost}_1 \\times \\text{False Positives}) + (\\text{Cost}_2 \\times \\text{False Negatives})\n",
    "\\]\n",
    "\n",
    "⚠️ Since **Cost_2 is 50x higher** than Cost_1, the primary goal is to **reduce false negatives**, while still minimizing false positives.\n",
    "\n",
    "---\n",
    "\n",
    "### 2) Dataset Overview\n",
    "\n",
    "- **Training Set**: 60,000 instances  \n",
    "- **Features**: 171 total features  \n",
    "- **Target Label**: 1 binary class label (`pos` / `neg`)\n"
   ]
  },
  {
   "cell_type": "markdown",
   "id": "9eab07de",
   "metadata": {
    "papermill": {
     "duration": 0.010734,
     "end_time": "2025-04-04T09:49:58.400266",
     "exception": false,
     "start_time": "2025-04-04T09:49:58.389532",
     "status": "completed"
    },
    "tags": []
   },
   "source": [
    "**Import important Libraries**"
   ]
  },
  {
   "cell_type": "code",
   "execution_count": 1,
   "id": "b18f915a",
   "metadata": {
    "execution": {
     "iopub.execute_input": "2025-04-04T09:49:58.423573Z",
     "iopub.status.busy": "2025-04-04T09:49:58.423200Z",
     "iopub.status.idle": "2025-04-04T09:50:02.804100Z",
     "shell.execute_reply": "2025-04-04T09:50:02.802645Z"
    },
    "papermill": {
     "duration": 4.395336,
     "end_time": "2025-04-04T09:50:02.806478",
     "exception": false,
     "start_time": "2025-04-04T09:49:58.411142",
     "status": "completed"
    },
    "tags": []
   },
   "outputs": [],
   "source": [
    "import pandas as pd\n",
    "import seaborn as sns\n",
    "import numpy as np\n",
    "from statistics import mean\n",
    "import matplotlib.pyplot as plt\n",
    "import warnings\n",
    "import numpy as np\n",
    "from sklearn.linear_model import LogisticRegression\n",
    "from sklearn.ensemble import RandomForestClassifier, GradientBoostingClassifier,BaggingClassifier\n",
    "from sklearn.tree import DecisionTreeClassifier\n",
    "from sklearn.svm import SVC\n",
    "from sklearn.metrics import accuracy_score, classification_report,ConfusionMatrixDisplay, \\\n",
    "                            precision_score, recall_score, f1_score, roc_auc_score,roc_curve,confusion_matrix, precision_recall_curve\n",
    "import xgboost\n",
    "\n",
    "from sklearn import metrics \n",
    "from sklearn.model_selection import  train_test_split, RepeatedStratifiedKFold, cross_val_score\n",
    "from xgboost import XGBClassifier\n",
    "from sklearn.preprocessing import StandardScaler, MinMaxScaler,RobustScaler\n",
    "from imblearn.over_sampling import SMOTE\n",
    "from sklearn.impute import SimpleImputer\n",
    "\n",
    "\n",
    "warnings.filterwarnings(\"ignore\")\n",
    "%matplotlib inline"
   ]
  },
  {
   "cell_type": "code",
   "execution_count": 2,
   "id": "e79dcbd3",
   "metadata": {
    "execution": {
     "iopub.execute_input": "2025-04-04T09:50:02.832674Z",
     "iopub.status.busy": "2025-04-04T09:50:02.832106Z",
     "iopub.status.idle": "2025-04-04T09:50:07.591517Z",
     "shell.execute_reply": "2025-04-04T09:50:07.590314Z"
    },
    "papermill": {
     "duration": 4.774684,
     "end_time": "2025-04-04T09:50:07.593640",
     "exception": false,
     "start_time": "2025-04-04T09:50:02.818956",
     "status": "completed"
    },
    "tags": []
   },
   "outputs": [],
   "source": [
    "df= pddf=pd.read_csv(f\"/kaggle/input/aps-failure-at-scania-trucks-data-set/aps_failure_training_set.csv\")"
   ]
  },
  {
   "cell_type": "code",
   "execution_count": 3,
   "id": "7f2fa21b",
   "metadata": {
    "execution": {
     "iopub.execute_input": "2025-04-04T09:50:07.621476Z",
     "iopub.status.busy": "2025-04-04T09:50:07.621116Z",
     "iopub.status.idle": "2025-04-04T09:50:07.712866Z",
     "shell.execute_reply": "2025-04-04T09:50:07.711559Z"
    },
    "papermill": {
     "duration": 0.106994,
     "end_time": "2025-04-04T09:50:07.714756",
     "exception": false,
     "start_time": "2025-04-04T09:50:07.607762",
     "status": "completed"
    },
    "tags": []
   },
   "outputs": [
    {
     "data": {
      "text/html": [
       "<div>\n",
       "<style scoped>\n",
       "    .dataframe tbody tr th:only-of-type {\n",
       "        vertical-align: middle;\n",
       "    }\n",
       "\n",
       "    .dataframe tbody tr th {\n",
       "        vertical-align: top;\n",
       "    }\n",
       "\n",
       "    .dataframe thead th {\n",
       "        text-align: right;\n",
       "    }\n",
       "</style>\n",
       "<table border=\"1\" class=\"dataframe\">\n",
       "  <thead>\n",
       "    <tr style=\"text-align: right;\">\n",
       "      <th></th>\n",
       "      <th>class</th>\n",
       "      <th>aa_000</th>\n",
       "      <th>ab_000</th>\n",
       "      <th>ac_000</th>\n",
       "      <th>ad_000</th>\n",
       "      <th>ae_000</th>\n",
       "      <th>af_000</th>\n",
       "      <th>ag_000</th>\n",
       "      <th>ag_001</th>\n",
       "      <th>ag_002</th>\n",
       "      <th>...</th>\n",
       "      <th>ee_002</th>\n",
       "      <th>ee_003</th>\n",
       "      <th>ee_004</th>\n",
       "      <th>ee_005</th>\n",
       "      <th>ee_006</th>\n",
       "      <th>ee_007</th>\n",
       "      <th>ee_008</th>\n",
       "      <th>ee_009</th>\n",
       "      <th>ef_000</th>\n",
       "      <th>eg_000</th>\n",
       "    </tr>\n",
       "  </thead>\n",
       "  <tbody>\n",
       "    <tr>\n",
       "      <th>0</th>\n",
       "      <td>neg</td>\n",
       "      <td>76698</td>\n",
       "      <td>na</td>\n",
       "      <td>2130706438</td>\n",
       "      <td>280</td>\n",
       "      <td>0</td>\n",
       "      <td>0</td>\n",
       "      <td>0</td>\n",
       "      <td>0</td>\n",
       "      <td>0</td>\n",
       "      <td>...</td>\n",
       "      <td>1240520</td>\n",
       "      <td>493384</td>\n",
       "      <td>721044</td>\n",
       "      <td>469792</td>\n",
       "      <td>339156</td>\n",
       "      <td>157956</td>\n",
       "      <td>73224</td>\n",
       "      <td>0</td>\n",
       "      <td>0</td>\n",
       "      <td>0</td>\n",
       "    </tr>\n",
       "    <tr>\n",
       "      <th>1</th>\n",
       "      <td>neg</td>\n",
       "      <td>33058</td>\n",
       "      <td>na</td>\n",
       "      <td>0</td>\n",
       "      <td>na</td>\n",
       "      <td>0</td>\n",
       "      <td>0</td>\n",
       "      <td>0</td>\n",
       "      <td>0</td>\n",
       "      <td>0</td>\n",
       "      <td>...</td>\n",
       "      <td>421400</td>\n",
       "      <td>178064</td>\n",
       "      <td>293306</td>\n",
       "      <td>245416</td>\n",
       "      <td>133654</td>\n",
       "      <td>81140</td>\n",
       "      <td>97576</td>\n",
       "      <td>1500</td>\n",
       "      <td>0</td>\n",
       "      <td>0</td>\n",
       "    </tr>\n",
       "    <tr>\n",
       "      <th>2</th>\n",
       "      <td>neg</td>\n",
       "      <td>41040</td>\n",
       "      <td>na</td>\n",
       "      <td>228</td>\n",
       "      <td>100</td>\n",
       "      <td>0</td>\n",
       "      <td>0</td>\n",
       "      <td>0</td>\n",
       "      <td>0</td>\n",
       "      <td>0</td>\n",
       "      <td>...</td>\n",
       "      <td>277378</td>\n",
       "      <td>159812</td>\n",
       "      <td>423992</td>\n",
       "      <td>409564</td>\n",
       "      <td>320746</td>\n",
       "      <td>158022</td>\n",
       "      <td>95128</td>\n",
       "      <td>514</td>\n",
       "      <td>0</td>\n",
       "      <td>0</td>\n",
       "    </tr>\n",
       "    <tr>\n",
       "      <th>3</th>\n",
       "      <td>neg</td>\n",
       "      <td>12</td>\n",
       "      <td>0</td>\n",
       "      <td>70</td>\n",
       "      <td>66</td>\n",
       "      <td>0</td>\n",
       "      <td>10</td>\n",
       "      <td>0</td>\n",
       "      <td>0</td>\n",
       "      <td>0</td>\n",
       "      <td>...</td>\n",
       "      <td>240</td>\n",
       "      <td>46</td>\n",
       "      <td>58</td>\n",
       "      <td>44</td>\n",
       "      <td>10</td>\n",
       "      <td>0</td>\n",
       "      <td>0</td>\n",
       "      <td>0</td>\n",
       "      <td>4</td>\n",
       "      <td>32</td>\n",
       "    </tr>\n",
       "    <tr>\n",
       "      <th>4</th>\n",
       "      <td>neg</td>\n",
       "      <td>60874</td>\n",
       "      <td>na</td>\n",
       "      <td>1368</td>\n",
       "      <td>458</td>\n",
       "      <td>0</td>\n",
       "      <td>0</td>\n",
       "      <td>0</td>\n",
       "      <td>0</td>\n",
       "      <td>0</td>\n",
       "      <td>...</td>\n",
       "      <td>622012</td>\n",
       "      <td>229790</td>\n",
       "      <td>405298</td>\n",
       "      <td>347188</td>\n",
       "      <td>286954</td>\n",
       "      <td>311560</td>\n",
       "      <td>433954</td>\n",
       "      <td>1218</td>\n",
       "      <td>0</td>\n",
       "      <td>0</td>\n",
       "    </tr>\n",
       "    <tr>\n",
       "      <th>...</th>\n",
       "      <td>...</td>\n",
       "      <td>...</td>\n",
       "      <td>...</td>\n",
       "      <td>...</td>\n",
       "      <td>...</td>\n",
       "      <td>...</td>\n",
       "      <td>...</td>\n",
       "      <td>...</td>\n",
       "      <td>...</td>\n",
       "      <td>...</td>\n",
       "      <td>...</td>\n",
       "      <td>...</td>\n",
       "      <td>...</td>\n",
       "      <td>...</td>\n",
       "      <td>...</td>\n",
       "      <td>...</td>\n",
       "      <td>...</td>\n",
       "      <td>...</td>\n",
       "      <td>...</td>\n",
       "      <td>...</td>\n",
       "      <td>...</td>\n",
       "    </tr>\n",
       "    <tr>\n",
       "      <th>59995</th>\n",
       "      <td>neg</td>\n",
       "      <td>153002</td>\n",
       "      <td>na</td>\n",
       "      <td>664</td>\n",
       "      <td>186</td>\n",
       "      <td>0</td>\n",
       "      <td>0</td>\n",
       "      <td>0</td>\n",
       "      <td>0</td>\n",
       "      <td>0</td>\n",
       "      <td>...</td>\n",
       "      <td>998500</td>\n",
       "      <td>566884</td>\n",
       "      <td>1290398</td>\n",
       "      <td>1218244</td>\n",
       "      <td>1019768</td>\n",
       "      <td>717762</td>\n",
       "      <td>898642</td>\n",
       "      <td>28588</td>\n",
       "      <td>0</td>\n",
       "      <td>0</td>\n",
       "    </tr>\n",
       "    <tr>\n",
       "      <th>59996</th>\n",
       "      <td>neg</td>\n",
       "      <td>2286</td>\n",
       "      <td>na</td>\n",
       "      <td>2130706538</td>\n",
       "      <td>224</td>\n",
       "      <td>0</td>\n",
       "      <td>0</td>\n",
       "      <td>0</td>\n",
       "      <td>0</td>\n",
       "      <td>0</td>\n",
       "      <td>...</td>\n",
       "      <td>10578</td>\n",
       "      <td>6760</td>\n",
       "      <td>21126</td>\n",
       "      <td>68424</td>\n",
       "      <td>136</td>\n",
       "      <td>0</td>\n",
       "      <td>0</td>\n",
       "      <td>0</td>\n",
       "      <td>0</td>\n",
       "      <td>0</td>\n",
       "    </tr>\n",
       "    <tr>\n",
       "      <th>59997</th>\n",
       "      <td>neg</td>\n",
       "      <td>112</td>\n",
       "      <td>0</td>\n",
       "      <td>2130706432</td>\n",
       "      <td>18</td>\n",
       "      <td>0</td>\n",
       "      <td>0</td>\n",
       "      <td>0</td>\n",
       "      <td>0</td>\n",
       "      <td>0</td>\n",
       "      <td>...</td>\n",
       "      <td>792</td>\n",
       "      <td>386</td>\n",
       "      <td>452</td>\n",
       "      <td>144</td>\n",
       "      <td>146</td>\n",
       "      <td>2622</td>\n",
       "      <td>0</td>\n",
       "      <td>0</td>\n",
       "      <td>0</td>\n",
       "      <td>0</td>\n",
       "    </tr>\n",
       "    <tr>\n",
       "      <th>59998</th>\n",
       "      <td>neg</td>\n",
       "      <td>80292</td>\n",
       "      <td>na</td>\n",
       "      <td>2130706432</td>\n",
       "      <td>494</td>\n",
       "      <td>0</td>\n",
       "      <td>0</td>\n",
       "      <td>0</td>\n",
       "      <td>0</td>\n",
       "      <td>0</td>\n",
       "      <td>...</td>\n",
       "      <td>699352</td>\n",
       "      <td>222654</td>\n",
       "      <td>347378</td>\n",
       "      <td>225724</td>\n",
       "      <td>194440</td>\n",
       "      <td>165070</td>\n",
       "      <td>802280</td>\n",
       "      <td>388422</td>\n",
       "      <td>0</td>\n",
       "      <td>0</td>\n",
       "    </tr>\n",
       "    <tr>\n",
       "      <th>59999</th>\n",
       "      <td>neg</td>\n",
       "      <td>40222</td>\n",
       "      <td>na</td>\n",
       "      <td>698</td>\n",
       "      <td>628</td>\n",
       "      <td>0</td>\n",
       "      <td>0</td>\n",
       "      <td>0</td>\n",
       "      <td>0</td>\n",
       "      <td>0</td>\n",
       "      <td>...</td>\n",
       "      <td>440066</td>\n",
       "      <td>183200</td>\n",
       "      <td>344546</td>\n",
       "      <td>254068</td>\n",
       "      <td>225148</td>\n",
       "      <td>158304</td>\n",
       "      <td>170384</td>\n",
       "      <td>158</td>\n",
       "      <td>0</td>\n",
       "      <td>0</td>\n",
       "    </tr>\n",
       "  </tbody>\n",
       "</table>\n",
       "<p>60000 rows × 171 columns</p>\n",
       "</div>"
      ],
      "text/plain": [
       "      class  aa_000 ab_000      ac_000 ad_000 ae_000 af_000 ag_000 ag_001  \\\n",
       "0       neg   76698     na  2130706438    280      0      0      0      0   \n",
       "1       neg   33058     na           0     na      0      0      0      0   \n",
       "2       neg   41040     na         228    100      0      0      0      0   \n",
       "3       neg      12      0          70     66      0     10      0      0   \n",
       "4       neg   60874     na        1368    458      0      0      0      0   \n",
       "...     ...     ...    ...         ...    ...    ...    ...    ...    ...   \n",
       "59995   neg  153002     na         664    186      0      0      0      0   \n",
       "59996   neg    2286     na  2130706538    224      0      0      0      0   \n",
       "59997   neg     112      0  2130706432     18      0      0      0      0   \n",
       "59998   neg   80292     na  2130706432    494      0      0      0      0   \n",
       "59999   neg   40222     na         698    628      0      0      0      0   \n",
       "\n",
       "      ag_002  ...   ee_002  ee_003   ee_004   ee_005   ee_006  ee_007  ee_008  \\\n",
       "0          0  ...  1240520  493384   721044   469792   339156  157956   73224   \n",
       "1          0  ...   421400  178064   293306   245416   133654   81140   97576   \n",
       "2          0  ...   277378  159812   423992   409564   320746  158022   95128   \n",
       "3          0  ...      240      46       58       44       10       0       0   \n",
       "4          0  ...   622012  229790   405298   347188   286954  311560  433954   \n",
       "...      ...  ...      ...     ...      ...      ...      ...     ...     ...   \n",
       "59995      0  ...   998500  566884  1290398  1218244  1019768  717762  898642   \n",
       "59996      0  ...    10578    6760    21126    68424      136       0       0   \n",
       "59997      0  ...      792     386      452      144      146    2622       0   \n",
       "59998      0  ...   699352  222654   347378   225724   194440  165070  802280   \n",
       "59999      0  ...   440066  183200   344546   254068   225148  158304  170384   \n",
       "\n",
       "       ee_009 ef_000 eg_000  \n",
       "0           0      0      0  \n",
       "1        1500      0      0  \n",
       "2         514      0      0  \n",
       "3           0      4     32  \n",
       "4        1218      0      0  \n",
       "...       ...    ...    ...  \n",
       "59995   28588      0      0  \n",
       "59996       0      0      0  \n",
       "59997       0      0      0  \n",
       "59998  388422      0      0  \n",
       "59999     158      0      0  \n",
       "\n",
       "[60000 rows x 171 columns]"
      ]
     },
     "execution_count": 3,
     "metadata": {},
     "output_type": "execute_result"
    }
   ],
   "source": [
    "df"
   ]
  },
  {
   "cell_type": "markdown",
   "id": "7898d9d1",
   "metadata": {
    "papermill": {
     "duration": 0.012855,
     "end_time": "2025-04-04T09:50:07.739635",
     "exception": false,
     "start_time": "2025-04-04T09:50:07.726780",
     "status": "completed"
    },
    "tags": []
   },
   "source": [
    "### Checking rows and columns in dataset"
   ]
  },
  {
   "cell_type": "code",
   "execution_count": 4,
   "id": "be78f64f",
   "metadata": {
    "execution": {
     "iopub.execute_input": "2025-04-04T09:50:07.764116Z",
     "iopub.status.busy": "2025-04-04T09:50:07.763719Z",
     "iopub.status.idle": "2025-04-04T09:50:07.769682Z",
     "shell.execute_reply": "2025-04-04T09:50:07.768766Z"
    },
    "papermill": {
     "duration": 0.019953,
     "end_time": "2025-04-04T09:50:07.771230",
     "exception": false,
     "start_time": "2025-04-04T09:50:07.751277",
     "status": "completed"
    },
    "tags": []
   },
   "outputs": [
    {
     "data": {
      "text/plain": [
       "(60000, 171)"
      ]
     },
     "execution_count": 4,
     "metadata": {},
     "output_type": "execute_result"
    }
   ],
   "source": [
    "df.shape"
   ]
  },
  {
   "cell_type": "markdown",
   "id": "02ca49a7",
   "metadata": {
    "papermill": {
     "duration": 0.011244,
     "end_time": "2025-04-04T09:50:07.794286",
     "exception": false,
     "start_time": "2025-04-04T09:50:07.783042",
     "status": "completed"
    },
    "tags": []
   },
   "source": [
    "#### Unique values present in dependent column"
   ]
  },
  {
   "cell_type": "code",
   "execution_count": 5,
   "id": "ebbcfd0a",
   "metadata": {
    "execution": {
     "iopub.execute_input": "2025-04-04T09:50:07.819748Z",
     "iopub.status.busy": "2025-04-04T09:50:07.819391Z",
     "iopub.status.idle": "2025-04-04T09:50:07.836668Z",
     "shell.execute_reply": "2025-04-04T09:50:07.835507Z"
    },
    "papermill": {
     "duration": 0.031986,
     "end_time": "2025-04-04T09:50:07.838273",
     "exception": false,
     "start_time": "2025-04-04T09:50:07.806287",
     "status": "completed"
    },
    "tags": []
   },
   "outputs": [
    {
     "data": {
      "text/plain": [
       "class\n",
       "neg    59000\n",
       "pos     1000\n",
       "Name: count, dtype: int64"
      ]
     },
     "execution_count": 5,
     "metadata": {},
     "output_type": "execute_result"
    }
   ],
   "source": [
    "df['class'].value_counts()"
   ]
  },
  {
   "cell_type": "markdown",
   "id": "4f5191fc",
   "metadata": {
    "papermill": {
     "duration": 0.011774,
     "end_time": "2025-04-04T09:50:07.862547",
     "exception": false,
     "start_time": "2025-04-04T09:50:07.850773",
     "status": "completed"
    },
    "tags": []
   },
   "source": [
    "#### Observation:\n",
    "Data is highly imbalance on the bases of target columns as negative values are approx 60 times more than positive values in target column."
   ]
  },
  {
   "cell_type": "markdown",
   "id": "d3ee1e69",
   "metadata": {
    "papermill": {
     "duration": 0.011266,
     "end_time": "2025-04-04T09:50:07.885660",
     "exception": false,
     "start_time": "2025-04-04T09:50:07.874394",
     "status": "completed"
    },
    "tags": []
   },
   "source": [
    "#### Checking % of positive class "
   ]
  },
  {
   "cell_type": "code",
   "execution_count": 6,
   "id": "15751cfb",
   "metadata": {
    "execution": {
     "iopub.execute_input": "2025-04-04T09:50:07.910331Z",
     "iopub.status.busy": "2025-04-04T09:50:07.909944Z",
     "iopub.status.idle": "2025-04-04T09:50:07.922805Z",
     "shell.execute_reply": "2025-04-04T09:50:07.921532Z"
    },
    "papermill": {
     "duration": 0.027216,
     "end_time": "2025-04-04T09:50:07.924545",
     "exception": false,
     "start_time": "2025-04-04T09:50:07.897329",
     "status": "completed"
    },
    "tags": []
   },
   "outputs": [
    {
     "name": "stdout",
     "output_type": "stream",
     "text": [
      "1.67 %\n"
     ]
    }
   ],
   "source": [
    "import math\n",
    "per_pos_class = ((df['class']=='pos').sum()/df.shape[0])*100\n",
    "print(round(per_pos_class,2),\"%\")"
   ]
  },
  {
   "cell_type": "code",
   "execution_count": 7,
   "id": "1ad46c84",
   "metadata": {
    "execution": {
     "iopub.execute_input": "2025-04-04T09:50:07.950035Z",
     "iopub.status.busy": "2025-04-04T09:50:07.949659Z",
     "iopub.status.idle": "2025-04-04T09:50:08.056295Z",
     "shell.execute_reply": "2025-04-04T09:50:08.055176Z"
    },
    "papermill": {
     "duration": 0.121101,
     "end_time": "2025-04-04T09:50:08.058026",
     "exception": false,
     "start_time": "2025-04-04T09:50:07.936925",
     "status": "completed"
    },
    "tags": []
   },
   "outputs": [
    {
     "name": "stdout",
     "output_type": "stream",
     "text": [
      "We have 1 numerical features : ['aa_000']\n",
      "\n",
      "We have 170 categorical features : ['class', 'ab_000', 'ac_000', 'ad_000', 'ae_000', 'af_000', 'ag_000', 'ag_001', 'ag_002', 'ag_003', 'ag_004', 'ag_005', 'ag_006', 'ag_007', 'ag_008', 'ag_009', 'ah_000', 'ai_000', 'aj_000', 'ak_000', 'al_000', 'am_0', 'an_000', 'ao_000', 'ap_000', 'aq_000', 'ar_000', 'as_000', 'at_000', 'au_000', 'av_000', 'ax_000', 'ay_000', 'ay_001', 'ay_002', 'ay_003', 'ay_004', 'ay_005', 'ay_006', 'ay_007', 'ay_008', 'ay_009', 'az_000', 'az_001', 'az_002', 'az_003', 'az_004', 'az_005', 'az_006', 'az_007', 'az_008', 'az_009', 'ba_000', 'ba_001', 'ba_002', 'ba_003', 'ba_004', 'ba_005', 'ba_006', 'ba_007', 'ba_008', 'ba_009', 'bb_000', 'bc_000', 'bd_000', 'be_000', 'bf_000', 'bg_000', 'bh_000', 'bi_000', 'bj_000', 'bk_000', 'bl_000', 'bm_000', 'bn_000', 'bo_000', 'bp_000', 'bq_000', 'br_000', 'bs_000', 'bt_000', 'bu_000', 'bv_000', 'bx_000', 'by_000', 'bz_000', 'ca_000', 'cb_000', 'cc_000', 'cd_000', 'ce_000', 'cf_000', 'cg_000', 'ch_000', 'ci_000', 'cj_000', 'ck_000', 'cl_000', 'cm_000', 'cn_000', 'cn_001', 'cn_002', 'cn_003', 'cn_004', 'cn_005', 'cn_006', 'cn_007', 'cn_008', 'cn_009', 'co_000', 'cp_000', 'cq_000', 'cr_000', 'cs_000', 'cs_001', 'cs_002', 'cs_003', 'cs_004', 'cs_005', 'cs_006', 'cs_007', 'cs_008', 'cs_009', 'ct_000', 'cu_000', 'cv_000', 'cx_000', 'cy_000', 'cz_000', 'da_000', 'db_000', 'dc_000', 'dd_000', 'de_000', 'df_000', 'dg_000', 'dh_000', 'di_000', 'dj_000', 'dk_000', 'dl_000', 'dm_000', 'dn_000', 'do_000', 'dp_000', 'dq_000', 'dr_000', 'ds_000', 'dt_000', 'du_000', 'dv_000', 'dx_000', 'dy_000', 'dz_000', 'ea_000', 'eb_000', 'ec_00', 'ed_000', 'ee_000', 'ee_001', 'ee_002', 'ee_003', 'ee_004', 'ee_005', 'ee_006', 'ee_007', 'ee_008', 'ee_009', 'ef_000', 'eg_000']\n"
     ]
    }
   ],
   "source": [
    "# define numerical & categorical columns\n",
    "numeric_features = [feature for feature in df.columns if df[feature].dtype != 'O']\n",
    "categorical_features = [feature for feature in df.columns if df[feature].dtype == 'O']\n",
    "\n",
    "# print columns\n",
    "print('We have {} numerical features : {}'.format(len(numeric_features), numeric_features))\n",
    "print('\\nWe have {} categorical features : {}'.format(len(categorical_features), categorical_features))"
   ]
  },
  {
   "cell_type": "markdown",
   "id": "5a801242",
   "metadata": {
    "papermill": {
     "duration": 0.012948,
     "end_time": "2025-04-04T09:50:08.083116",
     "exception": false,
     "start_time": "2025-04-04T09:50:08.070168",
     "status": "completed"
    },
    "tags": []
   },
   "source": [
    "## Cleaning Data"
   ]
  },
  {
   "cell_type": "code",
   "execution_count": 8,
   "id": "ee7e6566",
   "metadata": {
    "execution": {
     "iopub.execute_input": "2025-04-04T09:50:08.108407Z",
     "iopub.status.busy": "2025-04-04T09:50:08.108046Z",
     "iopub.status.idle": "2025-04-04T09:50:09.158470Z",
     "shell.execute_reply": "2025-04-04T09:50:09.157064Z"
    },
    "papermill": {
     "duration": 1.065504,
     "end_time": "2025-04-04T09:50:09.160685",
     "exception": false,
     "start_time": "2025-04-04T09:50:08.095181",
     "status": "completed"
    },
    "tags": []
   },
   "outputs": [],
   "source": [
    "# replacing all na values with nan(null)\n",
    "df=df.replace('na',np.nan)"
   ]
  },
  {
   "cell_type": "code",
   "execution_count": 9,
   "id": "5a749899",
   "metadata": {
    "execution": {
     "iopub.execute_input": "2025-04-04T09:50:09.187247Z",
     "iopub.status.busy": "2025-04-04T09:50:09.186833Z",
     "iopub.status.idle": "2025-04-04T09:50:10.360462Z",
     "shell.execute_reply": "2025-04-04T09:50:10.359488Z"
    },
    "papermill": {
     "duration": 1.188822,
     "end_time": "2025-04-04T09:50:10.362277",
     "exception": false,
     "start_time": "2025-04-04T09:50:09.173455",
     "status": "completed"
    },
    "tags": []
   },
   "outputs": [],
   "source": [
    "# Converting all datatypes all columns to float exluding class column\n",
    "\n",
    "for feature in df.columns:\n",
    "    if df[feature].dtype == 'O' and feature!='class':\n",
    "        df[feature]=df[feature].astype(float)"
   ]
  },
  {
   "cell_type": "code",
   "execution_count": 10,
   "id": "b9fb5908",
   "metadata": {
    "execution": {
     "iopub.execute_input": "2025-04-04T09:50:10.387763Z",
     "iopub.status.busy": "2025-04-04T09:50:10.387380Z",
     "iopub.status.idle": "2025-04-04T09:50:10.398254Z",
     "shell.execute_reply": "2025-04-04T09:50:10.396975Z"
    },
    "papermill": {
     "duration": 0.025639,
     "end_time": "2025-04-04T09:50:10.400055",
     "exception": false,
     "start_time": "2025-04-04T09:50:10.374416",
     "status": "completed"
    },
    "tags": []
   },
   "outputs": [
    {
     "name": "stdout",
     "output_type": "stream",
     "text": [
      "170\n"
     ]
    }
   ],
   "source": [
    "#numerical features count\n",
    "numerical_features = [feature for feature in df.columns if df[feature].dtype!='O']\n",
    "print(len(numerical_features))"
   ]
  },
  {
   "cell_type": "markdown",
   "id": "fba4247a",
   "metadata": {
    "papermill": {
     "duration": 0.011647,
     "end_time": "2025-04-04T09:50:10.423825",
     "exception": false,
     "start_time": "2025-04-04T09:50:10.412178",
     "status": "completed"
    },
    "tags": []
   },
   "source": [
    "### Checking % of missing values in each column"
   ]
  },
  {
   "cell_type": "code",
   "execution_count": 11,
   "id": "e7d7e683",
   "metadata": {
    "execution": {
     "iopub.execute_input": "2025-04-04T09:50:10.449319Z",
     "iopub.status.busy": "2025-04-04T09:50:10.448877Z",
     "iopub.status.idle": "2025-04-04T09:50:10.514451Z",
     "shell.execute_reply": "2025-04-04T09:50:10.513363Z"
    },
    "papermill": {
     "duration": 0.080516,
     "end_time": "2025-04-04T09:50:10.516421",
     "exception": false,
     "start_time": "2025-04-04T09:50:10.435905",
     "status": "completed"
    },
    "tags": []
   },
   "outputs": [],
   "source": [
    "missing_values = df.isna().sum().div(df.shape[0]).mul(100).to_frame().sort_values(by=0,ascending= False)"
   ]
  },
  {
   "cell_type": "markdown",
   "id": "bebe0227",
   "metadata": {
    "papermill": {
     "duration": 0.011678,
     "end_time": "2025-04-04T09:50:10.540193",
     "exception": false,
     "start_time": "2025-04-04T09:50:10.528515",
     "status": "completed"
    },
    "tags": []
   },
   "source": [
    "### Dropping columns where missing vlaues are more than 70%"
   ]
  },
  {
   "cell_type": "code",
   "execution_count": 12,
   "id": "df2f5b6d",
   "metadata": {
    "execution": {
     "iopub.execute_input": "2025-04-04T09:50:10.567242Z",
     "iopub.status.busy": "2025-04-04T09:50:10.566844Z",
     "iopub.status.idle": "2025-04-04T09:50:10.573285Z",
     "shell.execute_reply": "2025-04-04T09:50:10.572167Z"
    },
    "papermill": {
     "duration": 0.021574,
     "end_time": "2025-04-04T09:50:10.574896",
     "exception": false,
     "start_time": "2025-04-04T09:50:10.553322",
     "status": "completed"
    },
    "tags": []
   },
   "outputs": [
    {
     "name": "stdout",
     "output_type": "stream",
     "text": [
      "['br_000', 'bq_000', 'bp_000', 'bo_000', 'ab_000', 'cr_000', 'bn_000', 'bm_000']\n"
     ]
    }
   ],
   "source": [
    "drop_cols=missing_values[missing_values[0]>65]\n",
    "print(list(drop_cols.index))"
   ]
  },
  {
   "cell_type": "code",
   "execution_count": 13,
   "id": "d5a0db46",
   "metadata": {
    "execution": {
     "iopub.execute_input": "2025-04-04T09:50:10.602684Z",
     "iopub.status.busy": "2025-04-04T09:50:10.602289Z",
     "iopub.status.idle": "2025-04-04T09:50:10.751765Z",
     "shell.execute_reply": "2025-04-04T09:50:10.750704Z"
    },
    "papermill": {
     "duration": 0.165335,
     "end_time": "2025-04-04T09:50:10.753758",
     "exception": false,
     "start_time": "2025-04-04T09:50:10.588423",
     "status": "completed"
    },
    "tags": []
   },
   "outputs": [],
   "source": [
    "df.drop(list(drop_cols.index),axis=1, inplace=True)"
   ]
  },
  {
   "cell_type": "code",
   "execution_count": 14,
   "id": "17dbf7af",
   "metadata": {
    "execution": {
     "iopub.execute_input": "2025-04-04T09:50:10.779432Z",
     "iopub.status.busy": "2025-04-04T09:50:10.779032Z",
     "iopub.status.idle": "2025-04-04T09:50:10.784917Z",
     "shell.execute_reply": "2025-04-04T09:50:10.783807Z"
    },
    "papermill": {
     "duration": 0.020609,
     "end_time": "2025-04-04T09:50:10.786654",
     "exception": false,
     "start_time": "2025-04-04T09:50:10.766045",
     "status": "completed"
    },
    "tags": []
   },
   "outputs": [
    {
     "data": {
      "text/plain": [
       "(60000, 163)"
      ]
     },
     "execution_count": 14,
     "metadata": {},
     "output_type": "execute_result"
    }
   ],
   "source": [
    "#Checking number of columns after dropping null values columns\n",
    "df.shape"
   ]
  },
  {
   "cell_type": "markdown",
   "id": "c316b6ef",
   "metadata": {
    "papermill": {
     "duration": 0.011788,
     "end_time": "2025-04-04T09:50:10.810583",
     "exception": false,
     "start_time": "2025-04-04T09:50:10.798795",
     "status": "completed"
    },
    "tags": []
   },
   "source": [
    "### Checking % of missing cells in dataset"
   ]
  },
  {
   "cell_type": "code",
   "execution_count": 15,
   "id": "f57baa06",
   "metadata": {
    "execution": {
     "iopub.execute_input": "2025-04-04T09:50:10.836185Z",
     "iopub.status.busy": "2025-04-04T09:50:10.835791Z",
     "iopub.status.idle": "2025-04-04T09:50:10.887185Z",
     "shell.execute_reply": "2025-04-04T09:50:10.885772Z"
    },
    "papermill": {
     "duration": 0.066329,
     "end_time": "2025-04-04T09:50:10.889055",
     "exception": false,
     "start_time": "2025-04-04T09:50:10.822726",
     "status": "completed"
    },
    "tags": []
   },
   "outputs": [
    {
     "name": "stdout",
     "output_type": "stream",
     "text": [
      "there are 5% missing cells in data\n"
     ]
    }
   ],
   "source": [
    "total_missing_cells= df.isnull().sum().sum()\n",
    "total_cells = np.product(df.shape)\n",
    "missing_cell_per = (total_missing_cells/total_cells)*100\n",
    "print(f\"there are {round(missing_cell_per)}% missing cells in data\")"
   ]
  },
  {
   "cell_type": "markdown",
   "id": "1ebad642",
   "metadata": {
    "papermill": {
     "duration": 0.011813,
     "end_time": "2025-04-04T09:50:10.913149",
     "exception": false,
     "start_time": "2025-04-04T09:50:10.901336",
     "status": "completed"
    },
    "tags": []
   },
   "source": [
    "### Saving Cleaned data to the system"
   ]
  },
  {
   "cell_type": "code",
   "execution_count": 16,
   "id": "370af8a6",
   "metadata": {
    "execution": {
     "iopub.execute_input": "2025-04-04T09:50:10.939169Z",
     "iopub.status.busy": "2025-04-04T09:50:10.938770Z",
     "iopub.status.idle": "2025-04-04T09:50:19.026176Z",
     "shell.execute_reply": "2025-04-04T09:50:19.025217Z"
    },
    "papermill": {
     "duration": 8.102857,
     "end_time": "2025-04-04T09:50:19.028129",
     "exception": false,
     "start_time": "2025-04-04T09:50:10.925272",
     "status": "completed"
    },
    "tags": []
   },
   "outputs": [],
   "source": [
    "df.to_csv(\"APS_data_cleaned\", index=False)"
   ]
  },
  {
   "cell_type": "markdown",
   "id": "fa4eac65",
   "metadata": {
    "papermill": {
     "duration": 0.011669,
     "end_time": "2025-04-04T09:50:19.052169",
     "exception": false,
     "start_time": "2025-04-04T09:50:19.040500",
     "status": "completed"
    },
    "tags": []
   },
   "source": [
    "## Statistical Analysis of Data"
   ]
  },
  {
   "cell_type": "code",
   "execution_count": 17,
   "id": "606d121c",
   "metadata": {
    "execution": {
     "iopub.execute_input": "2025-04-04T09:50:19.077539Z",
     "iopub.status.busy": "2025-04-04T09:50:19.077122Z",
     "iopub.status.idle": "2025-04-04T09:50:19.897388Z",
     "shell.execute_reply": "2025-04-04T09:50:19.896096Z"
    },
    "papermill": {
     "duration": 0.834998,
     "end_time": "2025-04-04T09:50:19.899246",
     "exception": false,
     "start_time": "2025-04-04T09:50:19.064248",
     "status": "completed"
    },
    "tags": []
   },
   "outputs": [
    {
     "data": {
      "text/html": [
       "<div>\n",
       "<style scoped>\n",
       "    .dataframe tbody tr th:only-of-type {\n",
       "        vertical-align: middle;\n",
       "    }\n",
       "\n",
       "    .dataframe tbody tr th {\n",
       "        vertical-align: top;\n",
       "    }\n",
       "\n",
       "    .dataframe thead th {\n",
       "        text-align: right;\n",
       "    }\n",
       "</style>\n",
       "<table border=\"1\" class=\"dataframe\">\n",
       "  <thead>\n",
       "    <tr style=\"text-align: right;\">\n",
       "      <th></th>\n",
       "      <th>aa_000</th>\n",
       "      <th>ac_000</th>\n",
       "      <th>ad_000</th>\n",
       "      <th>ae_000</th>\n",
       "      <th>af_000</th>\n",
       "      <th>ag_000</th>\n",
       "      <th>ag_001</th>\n",
       "      <th>ag_002</th>\n",
       "      <th>ag_003</th>\n",
       "      <th>ag_004</th>\n",
       "      <th>...</th>\n",
       "      <th>ee_002</th>\n",
       "      <th>ee_003</th>\n",
       "      <th>ee_004</th>\n",
       "      <th>ee_005</th>\n",
       "      <th>ee_006</th>\n",
       "      <th>ee_007</th>\n",
       "      <th>ee_008</th>\n",
       "      <th>ee_009</th>\n",
       "      <th>ef_000</th>\n",
       "      <th>eg_000</th>\n",
       "    </tr>\n",
       "  </thead>\n",
       "  <tbody>\n",
       "    <tr>\n",
       "      <th>count</th>\n",
       "      <td>6.000000e+04</td>\n",
       "      <td>5.666500e+04</td>\n",
       "      <td>4.513900e+04</td>\n",
       "      <td>57500.000000</td>\n",
       "      <td>57500.000000</td>\n",
       "      <td>5.932900e+04</td>\n",
       "      <td>5.932900e+04</td>\n",
       "      <td>5.932900e+04</td>\n",
       "      <td>5.932900e+04</td>\n",
       "      <td>5.932900e+04</td>\n",
       "      <td>...</td>\n",
       "      <td>5.932900e+04</td>\n",
       "      <td>5.932900e+04</td>\n",
       "      <td>5.932900e+04</td>\n",
       "      <td>5.932900e+04</td>\n",
       "      <td>5.932900e+04</td>\n",
       "      <td>5.932900e+04</td>\n",
       "      <td>5.932900e+04</td>\n",
       "      <td>5.932900e+04</td>\n",
       "      <td>57276.000000</td>\n",
       "      <td>57277.000000</td>\n",
       "    </tr>\n",
       "    <tr>\n",
       "      <th>mean</th>\n",
       "      <td>5.933650e+04</td>\n",
       "      <td>3.560143e+08</td>\n",
       "      <td>1.906206e+05</td>\n",
       "      <td>6.819130</td>\n",
       "      <td>11.006817</td>\n",
       "      <td>2.216364e+02</td>\n",
       "      <td>9.757223e+02</td>\n",
       "      <td>8.606015e+03</td>\n",
       "      <td>8.859128e+04</td>\n",
       "      <td>4.370966e+05</td>\n",
       "      <td>...</td>\n",
       "      <td>4.454897e+05</td>\n",
       "      <td>2.111264e+05</td>\n",
       "      <td>4.457343e+05</td>\n",
       "      <td>3.939462e+05</td>\n",
       "      <td>3.330582e+05</td>\n",
       "      <td>3.462714e+05</td>\n",
       "      <td>1.387300e+05</td>\n",
       "      <td>8.388915e+03</td>\n",
       "      <td>0.090579</td>\n",
       "      <td>0.212756</td>\n",
       "    </tr>\n",
       "    <tr>\n",
       "      <th>std</th>\n",
       "      <td>1.454301e+05</td>\n",
       "      <td>7.948749e+08</td>\n",
       "      <td>4.040441e+07</td>\n",
       "      <td>161.543373</td>\n",
       "      <td>209.792592</td>\n",
       "      <td>2.047846e+04</td>\n",
       "      <td>3.420053e+04</td>\n",
       "      <td>1.503220e+05</td>\n",
       "      <td>7.617312e+05</td>\n",
       "      <td>2.374282e+06</td>\n",
       "      <td>...</td>\n",
       "      <td>1.155540e+06</td>\n",
       "      <td>5.433188e+05</td>\n",
       "      <td>1.168314e+06</td>\n",
       "      <td>1.121044e+06</td>\n",
       "      <td>1.069160e+06</td>\n",
       "      <td>1.728056e+06</td>\n",
       "      <td>4.495100e+05</td>\n",
       "      <td>4.747043e+04</td>\n",
       "      <td>4.368855</td>\n",
       "      <td>8.830641</td>\n",
       "    </tr>\n",
       "    <tr>\n",
       "      <th>min</th>\n",
       "      <td>0.000000e+00</td>\n",
       "      <td>0.000000e+00</td>\n",
       "      <td>0.000000e+00</td>\n",
       "      <td>0.000000</td>\n",
       "      <td>0.000000</td>\n",
       "      <td>0.000000e+00</td>\n",
       "      <td>0.000000e+00</td>\n",
       "      <td>0.000000e+00</td>\n",
       "      <td>0.000000e+00</td>\n",
       "      <td>0.000000e+00</td>\n",
       "      <td>...</td>\n",
       "      <td>0.000000e+00</td>\n",
       "      <td>0.000000e+00</td>\n",
       "      <td>0.000000e+00</td>\n",
       "      <td>0.000000e+00</td>\n",
       "      <td>0.000000e+00</td>\n",
       "      <td>0.000000e+00</td>\n",
       "      <td>0.000000e+00</td>\n",
       "      <td>0.000000e+00</td>\n",
       "      <td>0.000000</td>\n",
       "      <td>0.000000</td>\n",
       "    </tr>\n",
       "    <tr>\n",
       "      <th>25%</th>\n",
       "      <td>8.340000e+02</td>\n",
       "      <td>1.600000e+01</td>\n",
       "      <td>2.400000e+01</td>\n",
       "      <td>0.000000</td>\n",
       "      <td>0.000000</td>\n",
       "      <td>0.000000e+00</td>\n",
       "      <td>0.000000e+00</td>\n",
       "      <td>0.000000e+00</td>\n",
       "      <td>0.000000e+00</td>\n",
       "      <td>3.080000e+02</td>\n",
       "      <td>...</td>\n",
       "      <td>2.936000e+03</td>\n",
       "      <td>1.166000e+03</td>\n",
       "      <td>2.700000e+03</td>\n",
       "      <td>3.584000e+03</td>\n",
       "      <td>5.120000e+02</td>\n",
       "      <td>1.100000e+02</td>\n",
       "      <td>0.000000e+00</td>\n",
       "      <td>0.000000e+00</td>\n",
       "      <td>0.000000</td>\n",
       "      <td>0.000000</td>\n",
       "    </tr>\n",
       "    <tr>\n",
       "      <th>50%</th>\n",
       "      <td>3.077600e+04</td>\n",
       "      <td>1.520000e+02</td>\n",
       "      <td>1.260000e+02</td>\n",
       "      <td>0.000000</td>\n",
       "      <td>0.000000</td>\n",
       "      <td>0.000000e+00</td>\n",
       "      <td>0.000000e+00</td>\n",
       "      <td>0.000000e+00</td>\n",
       "      <td>0.000000e+00</td>\n",
       "      <td>3.672000e+03</td>\n",
       "      <td>...</td>\n",
       "      <td>2.337960e+05</td>\n",
       "      <td>1.120860e+05</td>\n",
       "      <td>2.215180e+05</td>\n",
       "      <td>1.899880e+05</td>\n",
       "      <td>9.243200e+04</td>\n",
       "      <td>4.109800e+04</td>\n",
       "      <td>3.812000e+03</td>\n",
       "      <td>0.000000e+00</td>\n",
       "      <td>0.000000</td>\n",
       "      <td>0.000000</td>\n",
       "    </tr>\n",
       "    <tr>\n",
       "      <th>75%</th>\n",
       "      <td>4.866800e+04</td>\n",
       "      <td>9.640000e+02</td>\n",
       "      <td>4.300000e+02</td>\n",
       "      <td>0.000000</td>\n",
       "      <td>0.000000</td>\n",
       "      <td>0.000000e+00</td>\n",
       "      <td>0.000000e+00</td>\n",
       "      <td>0.000000e+00</td>\n",
       "      <td>0.000000e+00</td>\n",
       "      <td>4.952200e+04</td>\n",
       "      <td>...</td>\n",
       "      <td>4.383960e+05</td>\n",
       "      <td>2.182320e+05</td>\n",
       "      <td>4.666140e+05</td>\n",
       "      <td>4.032220e+05</td>\n",
       "      <td>2.750940e+05</td>\n",
       "      <td>1.678140e+05</td>\n",
       "      <td>1.397240e+05</td>\n",
       "      <td>2.028000e+03</td>\n",
       "      <td>0.000000</td>\n",
       "      <td>0.000000</td>\n",
       "    </tr>\n",
       "    <tr>\n",
       "      <th>max</th>\n",
       "      <td>2.746564e+06</td>\n",
       "      <td>2.130707e+09</td>\n",
       "      <td>8.584298e+09</td>\n",
       "      <td>21050.000000</td>\n",
       "      <td>20070.000000</td>\n",
       "      <td>3.376892e+06</td>\n",
       "      <td>4.109372e+06</td>\n",
       "      <td>1.055286e+07</td>\n",
       "      <td>6.340207e+07</td>\n",
       "      <td>2.288306e+08</td>\n",
       "      <td>...</td>\n",
       "      <td>7.793393e+07</td>\n",
       "      <td>3.775839e+07</td>\n",
       "      <td>9.715238e+07</td>\n",
       "      <td>5.743524e+07</td>\n",
       "      <td>3.160781e+07</td>\n",
       "      <td>1.195801e+08</td>\n",
       "      <td>1.926740e+07</td>\n",
       "      <td>3.810078e+06</td>\n",
       "      <td>482.000000</td>\n",
       "      <td>1146.000000</td>\n",
       "    </tr>\n",
       "  </tbody>\n",
       "</table>\n",
       "<p>8 rows × 162 columns</p>\n",
       "</div>"
      ],
      "text/plain": [
       "             aa_000        ac_000        ad_000        ae_000        af_000  \\\n",
       "count  6.000000e+04  5.666500e+04  4.513900e+04  57500.000000  57500.000000   \n",
       "mean   5.933650e+04  3.560143e+08  1.906206e+05      6.819130     11.006817   \n",
       "std    1.454301e+05  7.948749e+08  4.040441e+07    161.543373    209.792592   \n",
       "min    0.000000e+00  0.000000e+00  0.000000e+00      0.000000      0.000000   \n",
       "25%    8.340000e+02  1.600000e+01  2.400000e+01      0.000000      0.000000   \n",
       "50%    3.077600e+04  1.520000e+02  1.260000e+02      0.000000      0.000000   \n",
       "75%    4.866800e+04  9.640000e+02  4.300000e+02      0.000000      0.000000   \n",
       "max    2.746564e+06  2.130707e+09  8.584298e+09  21050.000000  20070.000000   \n",
       "\n",
       "             ag_000        ag_001        ag_002        ag_003        ag_004  \\\n",
       "count  5.932900e+04  5.932900e+04  5.932900e+04  5.932900e+04  5.932900e+04   \n",
       "mean   2.216364e+02  9.757223e+02  8.606015e+03  8.859128e+04  4.370966e+05   \n",
       "std    2.047846e+04  3.420053e+04  1.503220e+05  7.617312e+05  2.374282e+06   \n",
       "min    0.000000e+00  0.000000e+00  0.000000e+00  0.000000e+00  0.000000e+00   \n",
       "25%    0.000000e+00  0.000000e+00  0.000000e+00  0.000000e+00  3.080000e+02   \n",
       "50%    0.000000e+00  0.000000e+00  0.000000e+00  0.000000e+00  3.672000e+03   \n",
       "75%    0.000000e+00  0.000000e+00  0.000000e+00  0.000000e+00  4.952200e+04   \n",
       "max    3.376892e+06  4.109372e+06  1.055286e+07  6.340207e+07  2.288306e+08   \n",
       "\n",
       "       ...        ee_002        ee_003        ee_004        ee_005  \\\n",
       "count  ...  5.932900e+04  5.932900e+04  5.932900e+04  5.932900e+04   \n",
       "mean   ...  4.454897e+05  2.111264e+05  4.457343e+05  3.939462e+05   \n",
       "std    ...  1.155540e+06  5.433188e+05  1.168314e+06  1.121044e+06   \n",
       "min    ...  0.000000e+00  0.000000e+00  0.000000e+00  0.000000e+00   \n",
       "25%    ...  2.936000e+03  1.166000e+03  2.700000e+03  3.584000e+03   \n",
       "50%    ...  2.337960e+05  1.120860e+05  2.215180e+05  1.899880e+05   \n",
       "75%    ...  4.383960e+05  2.182320e+05  4.666140e+05  4.032220e+05   \n",
       "max    ...  7.793393e+07  3.775839e+07  9.715238e+07  5.743524e+07   \n",
       "\n",
       "             ee_006        ee_007        ee_008        ee_009        ef_000  \\\n",
       "count  5.932900e+04  5.932900e+04  5.932900e+04  5.932900e+04  57276.000000   \n",
       "mean   3.330582e+05  3.462714e+05  1.387300e+05  8.388915e+03      0.090579   \n",
       "std    1.069160e+06  1.728056e+06  4.495100e+05  4.747043e+04      4.368855   \n",
       "min    0.000000e+00  0.000000e+00  0.000000e+00  0.000000e+00      0.000000   \n",
       "25%    5.120000e+02  1.100000e+02  0.000000e+00  0.000000e+00      0.000000   \n",
       "50%    9.243200e+04  4.109800e+04  3.812000e+03  0.000000e+00      0.000000   \n",
       "75%    2.750940e+05  1.678140e+05  1.397240e+05  2.028000e+03      0.000000   \n",
       "max    3.160781e+07  1.195801e+08  1.926740e+07  3.810078e+06    482.000000   \n",
       "\n",
       "             eg_000  \n",
       "count  57277.000000  \n",
       "mean       0.212756  \n",
       "std        8.830641  \n",
       "min        0.000000  \n",
       "25%        0.000000  \n",
       "50%        0.000000  \n",
       "75%        0.000000  \n",
       "max     1146.000000  \n",
       "\n",
       "[8 rows x 162 columns]"
      ]
     },
     "execution_count": 17,
     "metadata": {},
     "output_type": "execute_result"
    }
   ],
   "source": [
    "df.describe()"
   ]
  },
  {
   "cell_type": "code",
   "execution_count": 18,
   "id": "7032c0e4",
   "metadata": {
    "execution": {
     "iopub.execute_input": "2025-04-04T09:50:19.926397Z",
     "iopub.status.busy": "2025-04-04T09:50:19.926029Z",
     "iopub.status.idle": "2025-04-04T09:50:19.939559Z",
     "shell.execute_reply": "2025-04-04T09:50:19.938421Z"
    },
    "papermill": {
     "duration": 0.02878,
     "end_time": "2025-04-04T09:50:19.941360",
     "exception": false,
     "start_time": "2025-04-04T09:50:19.912580",
     "status": "completed"
    },
    "tags": []
   },
   "outputs": [
    {
     "data": {
      "text/plain": [
       "Index        128\n",
       "class     480000\n",
       "aa_000    480000\n",
       "ac_000    480000\n",
       "ad_000    480000\n",
       "           ...  \n",
       "ee_007    480000\n",
       "ee_008    480000\n",
       "ee_009    480000\n",
       "ef_000    480000\n",
       "eg_000    480000\n",
       "Length: 164, dtype: int64"
      ]
     },
     "execution_count": 18,
     "metadata": {},
     "output_type": "execute_result"
    }
   ],
   "source": [
    "# Checking memory usage of each column\n",
    "df.memory_usage()"
   ]
  },
  {
   "cell_type": "markdown",
   "id": "da60224b",
   "metadata": {
    "papermill": {
     "duration": 0.012888,
     "end_time": "2025-04-04T09:50:19.967275",
     "exception": false,
     "start_time": "2025-04-04T09:50:19.954387",
     "status": "completed"
    },
    "tags": []
   },
   "source": [
    "### Visualization of unique values in Target variable"
   ]
  },
  {
   "cell_type": "code",
   "execution_count": 19,
   "id": "996aef5b",
   "metadata": {
    "execution": {
     "iopub.execute_input": "2025-04-04T09:50:19.994593Z",
     "iopub.status.busy": "2025-04-04T09:50:19.994225Z",
     "iopub.status.idle": "2025-04-04T09:50:20.315166Z",
     "shell.execute_reply": "2025-04-04T09:50:20.314055Z"
    },
    "papermill": {
     "duration": 0.337095,
     "end_time": "2025-04-04T09:50:20.317023",
     "exception": false,
     "start_time": "2025-04-04T09:50:19.979928",
     "status": "completed"
    },
    "tags": []
   },
   "outputs": [
    {
     "data": {
      "text/plain": [
       "Text(0.5, 1.0, 'neg:59000 / pos:1000')"
      ]
     },
     "execution_count": 19,
     "metadata": {},
     "output_type": "execute_result"
    },
    {
     "data": {
      "image/png": "[encoded data removed]",
      "text/plain": [
       "<Figure size 1000x600 with 1 Axes>"
      ]
     },
     "metadata": {},
     "output_type": "display_data"
    }
   ],
   "source": [
    "plt.figure(figsize=(10,6))\n",
    "sns.countplot(x=df[\"class\"])\n",
    "plt.title(\"neg:{0} / pos:{1}\".format(df['class'].value_counts()[0], df[\"class\"].value_counts()[1]))"
   ]
  },
  {
   "cell_type": "markdown",
   "id": "9f8a31b6",
   "metadata": {
    "papermill": {
     "duration": 0.013055,
     "end_time": "2025-04-04T09:50:20.343889",
     "exception": false,
     "start_time": "2025-04-04T09:50:20.330834",
     "status": "completed"
    },
    "tags": []
   },
   "source": [
    "As dataset is highly imbalanced. We need to overcome this issue by resampling techniques"
   ]
  },
  {
   "cell_type": "markdown",
   "id": "f459dc30",
   "metadata": {
    "papermill": {
     "duration": 0.013019,
     "end_time": "2025-04-04T09:50:20.370850",
     "exception": false,
     "start_time": "2025-04-04T09:50:20.357831",
     "status": "completed"
    },
    "tags": []
   },
   "source": [
    "## Model Evaluation with random forest"
   ]
  },
  {
   "cell_type": "code",
   "execution_count": 20,
   "id": "c6f5cdec",
   "metadata": {
    "execution": {
     "iopub.execute_input": "2025-04-04T09:50:20.454199Z",
     "iopub.status.busy": "2025-04-04T09:50:20.453794Z",
     "iopub.status.idle": "2025-04-04T09:50:20.498240Z",
     "shell.execute_reply": "2025-04-04T09:50:20.497032Z"
    },
    "papermill": {
     "duration": 0.115496,
     "end_time": "2025-04-04T09:50:20.500095",
     "exception": false,
     "start_time": "2025-04-04T09:50:20.384599",
     "status": "completed"
    },
    "tags": []
   },
   "outputs": [],
   "source": [
    "# Prepare Data\n",
    "# Split features and target\n",
    "X = df.drop('class', axis=1)\n",
    "y = df['class']  # 'pos' / 'neg'"
   ]
  },
  {
   "cell_type": "code",
   "execution_count": 21,
   "id": "5b6f339e",
   "metadata": {
    "execution": {
     "iopub.execute_input": "2025-04-04T09:50:20.528172Z",
     "iopub.status.busy": "2025-04-04T09:50:20.527782Z",
     "iopub.status.idle": "2025-04-04T09:50:20.706559Z",
     "shell.execute_reply": "2025-04-04T09:50:20.705473Z"
    },
    "papermill": {
     "duration": 0.195063,
     "end_time": "2025-04-04T09:50:20.708620",
     "exception": false,
     "start_time": "2025-04-04T09:50:20.513557",
     "status": "completed"
    },
    "tags": []
   },
   "outputs": [],
   "source": [
    "# Split data (stratified is better if classes are imbalanced)\n",
    "\n",
    "X_train, X_test, y_train, y_test = train_test_split(\n",
    "    X, y, test_size=0.33, random_state=10\n",
    ")\n"
   ]
  },
  {
   "cell_type": "code",
   "execution_count": 22,
   "id": "788b76d8",
   "metadata": {
    "execution": {
     "iopub.execute_input": "2025-04-04T09:50:20.736615Z",
     "iopub.status.busy": "2025-04-04T09:50:20.736256Z",
     "iopub.status.idle": "2025-04-04T09:50:22.003697Z",
     "shell.execute_reply": "2025-04-04T09:50:22.002739Z"
    },
    "papermill": {
     "duration": 1.283531,
     "end_time": "2025-04-04T09:50:22.005561",
     "exception": false,
     "start_time": "2025-04-04T09:50:20.722030",
     "status": "completed"
    },
    "tags": []
   },
   "outputs": [],
   "source": [
    "#Impute Missing Values Using median imputation\n",
    "\n",
    "imputer = SimpleImputer(strategy=\"median\")\n",
    "X_train_imputed = imputer.fit_transform(X_train)\n",
    "X_test_imputed = imputer.transform(X_test)"
   ]
  },
  {
   "cell_type": "code",
   "execution_count": 23,
   "id": "71951521",
   "metadata": {
    "execution": {
     "iopub.execute_input": "2025-04-04T09:50:22.034265Z",
     "iopub.status.busy": "2025-04-04T09:50:22.033906Z",
     "iopub.status.idle": "2025-04-04T09:50:22.398652Z",
     "shell.execute_reply": "2025-04-04T09:50:22.397589Z"
    },
    "papermill": {
     "duration": 0.380832,
     "end_time": "2025-04-04T09:50:22.400586",
     "exception": false,
     "start_time": "2025-04-04T09:50:22.019754",
     "status": "completed"
    },
    "tags": []
   },
   "outputs": [],
   "source": [
    "#Handle Imbalanced Data with SMOTE\n",
    "# Apply SMOTE only on training data\n",
    "smote = SMOTE(random_state=42)\n",
    "X_train_resampled, y_train_resampled = smote.fit_resample(X_train_imputed, y_train)\n"
   ]
  },
  {
   "cell_type": "code",
   "execution_count": 24,
   "id": "e0a9c7e3",
   "metadata": {
    "execution": {
     "iopub.execute_input": "2025-04-04T09:50:22.429071Z",
     "iopub.status.busy": "2025-04-04T09:50:22.428639Z",
     "iopub.status.idle": "2025-04-04T09:52:21.398062Z",
     "shell.execute_reply": "2025-04-04T09:52:21.396845Z"
    },
    "papermill": {
     "duration": 118.998533,
     "end_time": "2025-04-04T09:52:21.412848",
     "exception": false,
     "start_time": "2025-04-04T09:50:22.414315",
     "status": "completed"
    },
    "tags": []
   },
   "outputs": [
    {
     "data": {
      "text/html": [
       "<style>#sk-container-id-1 {color: black;background-color: white;}#sk-container-id-1 pre{padding: 0;}#sk-container-id-1 div.sk-toggleable {background-color: white;}#sk-container-id-1 label.sk-toggleable__label {cursor: pointer;display: block;width: 100%;margin-bottom: 0;padding: 0.3em;box-sizing: border-box;text-align: center;}#sk-container-id-1 label.sk-toggleable__label-arrow:before {content: \"▸\";float: left;margin-right: 0.25em;color: #696969;}#sk-container-id-1 label.sk-toggleable__label-arrow:hover:before {color: black;}#sk-container-id-1 div.sk-estimator:hover label.sk-toggleable__label-arrow:before {color: black;}#sk-container-id-1 div.sk-toggleable__content {max-height: 0;max-width: 0;overflow: hidden;text-align: left;background-color: #f0f8ff;}#sk-container-id-1 div.sk-toggleable__content pre {margin: 0.2em;color: black;border-radius: 0.25em;background-color: #f0f8ff;}#sk-container-id-1 input.sk-toggleable__control:checked~div.sk-toggleable__content {max-height: 200px;max-width: 100%;overflow: auto;}#sk-container-id-1 input.sk-toggleable__control:checked~label.sk-toggleable__label-arrow:before {content: \"▾\";}#sk-container-id-1 div.sk-estimator input.sk-toggleable__control:checked~label.sk-toggleable__label {background-color: #d4ebff;}#sk-container-id-1 div.sk-label input.sk-toggleable__control:checked~label.sk-toggleable__label {background-color: #d4ebff;}#sk-container-id-1 input.sk-hidden--visually {border: 0;clip: rect(1px 1px 1px 1px);clip: rect(1px, 1px, 1px, 1px);height: 1px;margin: -1px;overflow: hidden;padding: 0;position: absolute;width: 1px;}#sk-container-id-1 div.sk-estimator {font-family: monospace;background-color: #f0f8ff;border: 1px dotted black;border-radius: 0.25em;box-sizing: border-box;margin-bottom: 0.5em;}#sk-container-id-1 div.sk-estimator:hover {background-color: #d4ebff;}#sk-container-id-1 div.sk-parallel-item::after {content: \"\";width: 100%;border-bottom: 1px solid gray;flex-grow: 1;}#sk-container-id-1 div.sk-label:hover label.sk-toggleable__label {background-color: #d4ebff;}#sk-container-id-1 div.sk-serial::before {content: \"\";position: absolute;border-left: 1px solid gray;box-sizing: border-box;top: 0;bottom: 0;left: 50%;z-index: 0;}#sk-container-id-1 div.sk-serial {display: flex;flex-direction: column;align-items: center;background-color: white;padding-right: 0.2em;padding-left: 0.2em;position: relative;}#sk-container-id-1 div.sk-item {position: relative;z-index: 1;}#sk-container-id-1 div.sk-parallel {display: flex;align-items: stretch;justify-content: center;background-color: white;position: relative;}#sk-container-id-1 div.sk-item::before, #sk-container-id-1 div.sk-parallel-item::before {content: \"\";position: absolute;border-left: 1px solid gray;box-sizing: border-box;top: 0;bottom: 0;left: 50%;z-index: -1;}#sk-container-id-1 div.sk-parallel-item {display: flex;flex-direction: column;z-index: 1;position: relative;background-color: white;}#sk-container-id-1 div.sk-parallel-item:first-child::after {align-self: flex-end;width: 50%;}#sk-container-id-1 div.sk-parallel-item:last-child::after {align-self: flex-start;width: 50%;}#sk-container-id-1 div.sk-parallel-item:only-child::after {width: 0;}#sk-container-id-1 div.sk-dashed-wrapped {border: 1px dashed gray;margin: 0 0.4em 0.5em 0.4em;box-sizing: border-box;padding-bottom: 0.4em;background-color: white;}#sk-container-id-1 div.sk-label label {font-family: monospace;font-weight: bold;display: inline-block;line-height: 1.2em;}#sk-container-id-1 div.sk-label-container {text-align: center;}#sk-container-id-1 div.sk-container {/* jupyter's `normalize.less` sets `[hidden] { display: none; }` but bootstrap.min.css set `[hidden] { display: none !important; }` so we also need the `!important` here to be able to override the default hidden behavior on the sphinx rendered scikit-learn.org. See: https://github.com/scikit-learn/scikit-learn/issues/21755 */display: inline-block !important;position: relative;}#sk-container-id-1 div.sk-text-repr-fallback {display: none;}</style><div id=\"sk-container-id-1\" class=\"sk-top-container\"><div class=\"sk-text-repr-fallback\"><pre>RandomForestClassifier(class_weight=&#x27;balanced&#x27;, random_state=42)</pre><b>In a Jupyter environment, please rerun this cell to show the HTML representation or trust the notebook. <br />On GitHub, the HTML representation is unable to render, please try loading this page with nbviewer.org.</b></div><div class=\"sk-container\" hidden><div class=\"sk-item\"><div class=\"sk-estimator sk-toggleable\"><input class=\"sk-toggleable__control sk-hidden--visually\" id=\"sk-estimator-id-1\" type=\"checkbox\" checked><label for=\"sk-estimator-id-1\" class=\"sk-toggleable__label sk-toggleable__label-arrow\">RandomForestClassifier</label><div class=\"sk-toggleable__content\"><pre>RandomForestClassifier(class_weight=&#x27;balanced&#x27;, random_state=42)</pre></div></div></div></div></div>"
      ],
      "text/plain": [
       "RandomForestClassifier(class_weight='balanced', random_state=42)"
      ]
     },
     "execution_count": 24,
     "metadata": {},
     "output_type": "execute_result"
    }
   ],
   "source": [
    "#Train Random Forest Classifier\n",
    "\n",
    "\n",
    "model = RandomForestClassifier(\n",
    "    n_estimators=100,\n",
    "    class_weight='balanced',\n",
    "    random_state=42\n",
    ")\n",
    "model.fit(X_train_resampled, y_train_resampled)"
   ]
  },
  {
   "cell_type": "code",
   "execution_count": 25,
   "id": "3f71134a",
   "metadata": {
    "execution": {
     "iopub.execute_input": "2025-04-04T09:52:21.441493Z",
     "iopub.status.busy": "2025-04-04T09:52:21.441095Z",
     "iopub.status.idle": "2025-04-04T09:52:21.797079Z",
     "shell.execute_reply": "2025-04-04T09:52:21.796056Z"
    },
    "papermill": {
     "duration": 0.37252,
     "end_time": "2025-04-04T09:52:21.798931",
     "exception": false,
     "start_time": "2025-04-04T09:52:21.426411",
     "status": "completed"
    },
    "tags": []
   },
   "outputs": [],
   "source": [
    "# Predict on Test Set (With Threshold 0.3)\n",
    "\n",
    "y_probs = model.predict_proba(X_test_imputed)[:, 1]  # Probabilities for class 'pos'\n",
    "y_pred = (y_probs >= 0.3).astype(int)  # Custom threshold to reduce false negatives\n",
    "\n",
    "# Convert y_test ('neg'/'pos') to numeric (0/1)\n",
    "y_test = (y_test == \"pos\").astype(int)"
   ]
  },
  {
   "cell_type": "markdown",
   "id": "a478e073",
   "metadata": {
    "papermill": {
     "duration": 0.013714,
     "end_time": "2025-04-04T09:52:21.826315",
     "exception": false,
     "start_time": "2025-04-04T09:52:21.812601",
     "status": "completed"
    },
    "tags": []
   },
   "source": [
    "### Evaluation matrix for Random Forest"
   ]
  },
  {
   "cell_type": "code",
   "execution_count": 26,
   "id": "94323775",
   "metadata": {
    "execution": {
     "iopub.execute_input": "2025-04-04T09:52:21.855863Z",
     "iopub.status.busy": "2025-04-04T09:52:21.855500Z",
     "iopub.status.idle": "2025-04-04T09:52:22.417468Z",
     "shell.execute_reply": "2025-04-04T09:52:22.416283Z"
    },
    "papermill": {
     "duration": 0.579331,
     "end_time": "2025-04-04T09:52:22.419328",
     "exception": false,
     "start_time": "2025-04-04T09:52:21.839997",
     "status": "completed"
    },
    "tags": []
   },
   "outputs": [
    {
     "name": "stdout",
     "output_type": "stream",
     "text": [
      "\n",
      "🔹 Classification Report:\n",
      "              precision    recall  f1-score   support\n",
      "\n",
      "           0       1.00      0.98      0.99     19465\n",
      "           1       0.48      0.92      0.63       335\n",
      "\n",
      "    accuracy                           0.98     19800\n",
      "   macro avg       0.74      0.95      0.81     19800\n",
      "weighted avg       0.99      0.98      0.98     19800\n",
      "\n"
     ]
    },
    {
     "data": {
      "image/png": "[encoded data removed]",
      "text/plain": [
       "<Figure size 640x480 with 2 Axes>"
      ]
     },
     "metadata": {},
     "output_type": "display_data"
    },
    {
     "data": {
      "image/png": "[encoded data removed]",
      "text/plain": [
       "<Figure size 640x480 with 1 Axes>"
      ]
     },
     "metadata": {},
     "output_type": "display_data"
    },
    {
     "name": "stdout",
     "output_type": "stream",
     "text": [
      "\n",
      "🔹 ROC AUC Score: 0.9856\n"
     ]
    }
   ],
   "source": [
    "# Classification report\n",
    "print(\"\\n🔹 Classification Report:\")\n",
    "print(classification_report(y_test, y_pred))\n",
    "\n",
    "# Confusion Matrix\n",
    "cm = confusion_matrix(y_test, y_pred)\n",
    "sns.heatmap(cm, annot=True, fmt=\"d\", cmap=\"Blues\",\n",
    "            xticklabels=[\"Negative\", \"Positive\"],\n",
    "            yticklabels=[\"Negative\", \"Positive\"])\n",
    "plt.xlabel(\"Predicted\")\n",
    "plt.ylabel(\"Actual\")\n",
    "plt.title(\"Confusion Matrix\")\n",
    "plt.show()\n",
    "\n",
    "\n",
    "# Precision-Recall Curve\n",
    "\n",
    "precision, recall, _ = precision_recall_curve(y_test, y_probs)\n",
    "plt.plot(recall, precision, marker='.')\n",
    "plt.xlabel('Recall')\n",
    "plt.ylabel('Precision')\n",
    "plt.title('Precision-Recall Curve')\n",
    "plt.grid()\n",
    "plt.show()\n",
    "\n",
    "# ROC AUC Score\n",
    "roc_auc = roc_auc_score(y_test, y_probs)\n",
    "print(f\"\\n🔹 ROC AUC Score: {roc_auc:.4f}\")"
   ]
  },
  {
   "cell_type": "markdown",
   "id": "aea5d645",
   "metadata": {
    "papermill": {
     "duration": 0.014846,
     "end_time": "2025-04-04T09:52:22.449759",
     "exception": false,
     "start_time": "2025-04-04T09:52:22.434913",
     "status": "completed"
    },
    "tags": []
   },
   "source": [
    "#### Cost Evaluation"
   ]
  },
  {
   "cell_type": "code",
   "execution_count": 27,
   "id": "7ea304a6",
   "metadata": {
    "execution": {
     "iopub.execute_input": "2025-04-04T09:52:22.481042Z",
     "iopub.status.busy": "2025-04-04T09:52:22.480618Z",
     "iopub.status.idle": "2025-04-04T09:52:22.486996Z",
     "shell.execute_reply": "2025-04-04T09:52:22.485597Z"
    },
    "papermill": {
     "duration": 0.024354,
     "end_time": "2025-04-04T09:52:22.489033",
     "exception": false,
     "start_time": "2025-04-04T09:52:22.464679",
     "status": "completed"
    },
    "tags": []
   },
   "outputs": [
    {
     "name": "stdout",
     "output_type": "stream",
     "text": [
      "🔹 Total Cost of False Positives & Negatives: Rs. 17280 /-\n"
     ]
    }
   ],
   "source": [
    "# Cost Evaluation\n",
    "\n",
    "# Get confusion matrix values\n",
    "tn, fp, fn, tp = cm.ravel()\n",
    "\n",
    "# Define custom cost formula\n",
    "Total_cost = (10 * fp) + (500 * fn)\n",
    "print(f\"🔹 Total Cost of False Positives & Negatives: Rs. {Total_cost} /-\")"
   ]
  },
  {
   "cell_type": "markdown",
   "id": "0153d3ec",
   "metadata": {
    "papermill": {
     "duration": 0.015883,
     "end_time": "2025-04-04T09:52:22.520216",
     "exception": false,
     "start_time": "2025-04-04T09:52:22.504333",
     "status": "completed"
    },
    "tags": []
   },
   "source": [
    "#### Train/Test Accuracy"
   ]
  },
  {
   "cell_type": "code",
   "execution_count": 28,
   "id": "e84d98cb",
   "metadata": {
    "execution": {
     "iopub.execute_input": "2025-04-04T09:52:22.552354Z",
     "iopub.status.busy": "2025-04-04T09:52:22.551993Z",
     "iopub.status.idle": "2025-04-04T09:52:24.410462Z",
     "shell.execute_reply": "2025-04-04T09:52:24.409076Z"
    },
    "papermill": {
     "duration": 1.876768,
     "end_time": "2025-04-04T09:52:24.412642",
     "exception": false,
     "start_time": "2025-04-04T09:52:22.535874",
     "status": "completed"
    },
    "tags": []
   },
   "outputs": [
    {
     "name": "stdout",
     "output_type": "stream",
     "text": [
      "\n",
      "🔹 Training Accuracy: 1.0000\n",
      "🔹 Test Accuracy (threshold=0.5): 0.9900\n"
     ]
    }
   ],
   "source": [
    "# Predict on training data\n",
    "train_preds = model.predict(X_train_resampled)\n",
    "\n",
    "# Predict on test data with 0.5 threshold (for accuracy only)\n",
    "test_preds = model.predict(X_test_imputed)\n",
    "test_preds = np.where(test_preds == \"pos\", 1, 0)  # Ensure numeric format\n",
    "\n",
    "print(f\"\\n🔹 Training Accuracy: {accuracy_score(y_train_resampled, train_preds):.4f}\")\n",
    "print(f\"🔹 Test Accuracy (threshold=0.5): {accuracy_score(y_test, test_preds):.4f}\")"
   ]
  },
  {
   "cell_type": "markdown",
   "id": "fe5aa51f",
   "metadata": {
    "papermill": {
     "duration": 0.01549,
     "end_time": "2025-04-04T09:52:24.452489",
     "exception": false,
     "start_time": "2025-04-04T09:52:24.436999",
     "status": "completed"
    },
    "tags": []
   },
   "source": [
    "#### Observation:\n",
    "As the training accuracy of the model is 100%. This could be the case of overfitting due to the leakage of data. We can try with other regularized model(eg:XGboost)"
   ]
  },
  {
   "cell_type": "markdown",
   "id": "7deb0a68",
   "metadata": {
    "papermill": {
     "duration": 0.015156,
     "end_time": "2025-04-04T09:52:24.483906",
     "exception": false,
     "start_time": "2025-04-04T09:52:24.468750",
     "status": "completed"
    },
    "tags": []
   },
   "source": [
    "### Individual Matrix\n",
    "Checking precision and recall values as we need to reduce false negative, recall value must be higher "
   ]
  },
  {
   "cell_type": "code",
   "execution_count": 29,
   "id": "94d5dad5",
   "metadata": {
    "execution": {
     "iopub.execute_input": "2025-04-04T09:52:24.517578Z",
     "iopub.status.busy": "2025-04-04T09:52:24.517095Z",
     "iopub.status.idle": "2025-04-04T09:52:24.552834Z",
     "shell.execute_reply": "2025-04-04T09:52:24.551589Z"
    },
    "papermill": {
     "duration": 0.055541,
     "end_time": "2025-04-04T09:52:24.555245",
     "exception": false,
     "start_time": "2025-04-04T09:52:24.499704",
     "status": "completed"
    },
    "tags": []
   },
   "outputs": [
    {
     "name": "stdout",
     "output_type": "stream",
     "text": [
      "\n",
      "Precision (pos class): 0.4835\n",
      "Recall (pos class):    0.9164\n",
      "F1 Score:              0.6330\n",
      "ROC AUC Score:         0.9856\n"
     ]
    }
   ],
   "source": [
    "precision = precision_score(y_test, y_pred)\n",
    "recall = recall_score(y_test, y_pred)\n",
    "f1 = f1_score(y_test, y_pred)\n",
    "roc_auc = roc_auc_score(y_test, y_probs)\n",
    "\n",
    "print(f\"\\nPrecision (pos class): {precision:.4f}\")\n",
    "print(f\"Recall (pos class):    {recall:.4f}\")\n",
    "print(f\"F1 Score:              {f1:.4f}\")\n",
    "print(f\"ROC AUC Score:         {roc_auc:.4f}\")"
   ]
  },
  {
   "cell_type": "markdown",
   "id": "8520ee51",
   "metadata": {
    "papermill": {
     "duration": 0.015171,
     "end_time": "2025-04-04T09:52:24.595195",
     "exception": false,
     "start_time": "2025-04-04T09:52:24.580024",
     "status": "completed"
    },
    "tags": []
   },
   "source": [
    "#### Checking Precision and recall values on different threshold"
   ]
  },
  {
   "cell_type": "code",
   "execution_count": 30,
   "id": "e0c10366",
   "metadata": {
    "execution": {
     "iopub.execute_input": "2025-04-04T09:52:24.626924Z",
     "iopub.status.busy": "2025-04-04T09:52:24.626552Z",
     "iopub.status.idle": "2025-04-04T09:52:24.953374Z",
     "shell.execute_reply": "2025-04-04T09:52:24.952224Z"
    },
    "papermill": {
     "duration": 0.345049,
     "end_time": "2025-04-04T09:52:24.955414",
     "exception": false,
     "start_time": "2025-04-04T09:52:24.610365",
     "status": "completed"
    },
    "tags": []
   },
   "outputs": [
    {
     "name": "stdout",
     "output_type": "stream",
     "text": [
      "Threshold: 0.00 -> Precision: 0.017, Recall: 1.000\n",
      "Threshold: 0.05 -> Precision: 0.187, Recall: 0.973\n",
      "Threshold: 0.10 -> Precision: 0.268, Recall: 0.970\n",
      "Threshold: 0.15 -> Precision: 0.350, Recall: 0.958\n",
      "Threshold: 0.20 -> Precision: 0.393, Recall: 0.949\n",
      "Threshold: 0.25 -> Precision: 0.436, Recall: 0.940\n",
      "Threshold: 0.30 -> Precision: 0.498, Recall: 0.916\n",
      "Threshold: 0.35 -> Precision: 0.543, Recall: 0.899\n",
      "Threshold: 0.40 -> Precision: 0.580, Recall: 0.878\n",
      "Threshold: 0.45 -> Precision: 0.620, Recall: 0.863\n",
      "Threshold: 0.50 -> Precision: 0.661, Recall: 0.827\n",
      "Threshold: 0.55 -> Precision: 0.699, Recall: 0.791\n",
      "Threshold: 0.60 -> Precision: 0.752, Recall: 0.734\n",
      "Threshold: 0.65 -> Precision: 0.783, Recall: 0.701\n",
      "Threshold: 0.70 -> Precision: 0.817, Recall: 0.654\n",
      "Threshold: 0.75 -> Precision: 0.858, Recall: 0.594\n",
      "Threshold: 0.80 -> Precision: 0.871, Recall: 0.543\n",
      "Threshold: 0.85 -> Precision: 0.944, Recall: 0.451\n",
      "Threshold: 0.90 -> Precision: 0.960, Recall: 0.361\n",
      "Threshold: 0.95 -> Precision: 0.985, Recall: 0.194\n"
     ]
    }
   ],
   "source": [
    "thresholds = np.arange(0, 1, 0.05)\n",
    "for thresh in thresholds:\n",
    "    temp_pred = (y_probs >= thresh).astype(int)\n",
    "    p = precision_score(y_test, temp_pred)\n",
    "    r = recall_score(y_test, temp_pred)\n",
    "    print(f\"Threshold: {thresh:.2f} -> Precision: {p:.3f}, Recall: {r:.3f}\")\n"
   ]
  },
  {
   "cell_type": "markdown",
   "id": "b8250202",
   "metadata": {
    "papermill": {
     "duration": 0.015539,
     "end_time": "2025-04-04T09:52:24.987360",
     "exception": false,
     "start_time": "2025-04-04T09:52:24.971821",
     "status": "completed"
    },
    "tags": []
   },
   "source": [
    "Threshold=0.30 will be the best threshold in our case"
   ]
  },
  {
   "cell_type": "markdown",
   "id": "e1b628f3",
   "metadata": {
    "papermill": {
     "duration": 0.015464,
     "end_time": "2025-04-04T09:52:25.018449",
     "exception": false,
     "start_time": "2025-04-04T09:52:25.002985",
     "status": "completed"
    },
    "tags": []
   },
   "source": [
    "#### Evaluating with XGboost model"
   ]
  },
  {
   "cell_type": "code",
   "execution_count": 31,
   "id": "860849cb",
   "metadata": {
    "execution": {
     "iopub.execute_input": "2025-04-04T09:52:25.051595Z",
     "iopub.status.busy": "2025-04-04T09:52:25.051256Z",
     "iopub.status.idle": "2025-04-04T09:52:25.147202Z",
     "shell.execute_reply": "2025-04-04T09:52:25.146044Z"
    },
    "papermill": {
     "duration": 0.114725,
     "end_time": "2025-04-04T09:52:25.149218",
     "exception": false,
     "start_time": "2025-04-04T09:52:25.034493",
     "status": "completed"
    },
    "tags": []
   },
   "outputs": [],
   "source": [
    "# Load Data\n",
    "X = df.drop('class', axis=1)\n",
    "y = (df['class'] == 'pos').astype(int)  # Convert to binary (0 = neg, 1 = pos)\n"
   ]
  },
  {
   "cell_type": "code",
   "execution_count": 32,
   "id": "f43cdb0a",
   "metadata": {
    "execution": {
     "iopub.execute_input": "2025-04-04T09:52:25.183880Z",
     "iopub.status.busy": "2025-04-04T09:52:25.183421Z",
     "iopub.status.idle": "2025-04-04T09:52:25.321610Z",
     "shell.execute_reply": "2025-04-04T09:52:25.320586Z"
    },
    "papermill": {
     "duration": 0.15741,
     "end_time": "2025-04-04T09:52:25.323711",
     "exception": false,
     "start_time": "2025-04-04T09:52:25.166301",
     "status": "completed"
    },
    "tags": []
   },
   "outputs": [],
   "source": [
    "# Step 2: Train/Test Split\n",
    "X_train, X_test, y_train, y_test = train_test_split(X, y, stratify=y, test_size=0.3, random_state=42)\n"
   ]
  },
  {
   "cell_type": "code",
   "execution_count": 33,
   "id": "d2be9e3c",
   "metadata": {
    "execution": {
     "iopub.execute_input": "2025-04-04T09:52:25.358435Z",
     "iopub.status.busy": "2025-04-04T09:52:25.357797Z",
     "iopub.status.idle": "2025-04-04T09:52:26.629942Z",
     "shell.execute_reply": "2025-04-04T09:52:26.628766Z"
    },
    "papermill": {
     "duration": 1.291685,
     "end_time": "2025-04-04T09:52:26.632144",
     "exception": false,
     "start_time": "2025-04-04T09:52:25.340459",
     "status": "completed"
    },
    "tags": []
   },
   "outputs": [],
   "source": [
    "#Missing Value imputation\n",
    "imputer = SimpleImputer(strategy=\"median\") \n",
    "X_train_imputed = imputer.fit_transform(X_train)  \n",
    "X_test_imputed = imputer.transform(X_test)"
   ]
  },
  {
   "cell_type": "code",
   "execution_count": 34,
   "id": "d1100605",
   "metadata": {
    "execution": {
     "iopub.execute_input": "2025-04-04T09:52:26.664785Z",
     "iopub.status.busy": "2025-04-04T09:52:26.664440Z",
     "iopub.status.idle": "2025-04-04T09:52:26.850529Z",
     "shell.execute_reply": "2025-04-04T09:52:26.849629Z"
    },
    "papermill": {
     "duration": 0.204683,
     "end_time": "2025-04-04T09:52:26.852533",
     "exception": false,
     "start_time": "2025-04-04T09:52:26.647850",
     "status": "completed"
    },
    "tags": []
   },
   "outputs": [],
   "source": [
    "# Step 3: SMOTE Oversampling\n",
    "smote = SMOTE(random_state=42)\n",
    "X_train_resampled, y_train_resampled = smote.fit_resample(X_train_imputed, y_train)\n"
   ]
  },
  {
   "cell_type": "code",
   "execution_count": 35,
   "id": "a401a4ee",
   "metadata": {
    "execution": {
     "iopub.execute_input": "2025-04-04T09:52:26.885928Z",
     "iopub.status.busy": "2025-04-04T09:52:26.885416Z",
     "iopub.status.idle": "2025-04-04T09:52:31.349191Z",
     "shell.execute_reply": "2025-04-04T09:52:31.348210Z"
    },
    "papermill": {
     "duration": 4.482917,
     "end_time": "2025-04-04T09:52:31.351096",
     "exception": false,
     "start_time": "2025-04-04T09:52:26.868179",
     "status": "completed"
    },
    "tags": []
   },
   "outputs": [
    {
     "data": {
      "text/html": [
       "<style>#sk-container-id-2 {color: black;background-color: white;}#sk-container-id-2 pre{padding: 0;}#sk-container-id-2 div.sk-toggleable {background-color: white;}#sk-container-id-2 label.sk-toggleable__label {cursor: pointer;display: block;width: 100%;margin-bottom: 0;padding: 0.3em;box-sizing: border-box;text-align: center;}#sk-container-id-2 label.sk-toggleable__label-arrow:before {content: \"▸\";float: left;margin-right: 0.25em;color: #696969;}#sk-container-id-2 label.sk-toggleable__label-arrow:hover:before {color: black;}#sk-container-id-2 div.sk-estimator:hover label.sk-toggleable__label-arrow:before {color: black;}#sk-container-id-2 div.sk-toggleable__content {max-height: 0;max-width: 0;overflow: hidden;text-align: left;background-color: #f0f8ff;}#sk-container-id-2 div.sk-toggleable__content pre {margin: 0.2em;color: black;border-radius: 0.25em;background-color: #f0f8ff;}#sk-container-id-2 input.sk-toggleable__control:checked~div.sk-toggleable__content {max-height: 200px;max-width: 100%;overflow: auto;}#sk-container-id-2 input.sk-toggleable__control:checked~label.sk-toggleable__label-arrow:before {content: \"▾\";}#sk-container-id-2 div.sk-estimator input.sk-toggleable__control:checked~label.sk-toggleable__label {background-color: #d4ebff;}#sk-container-id-2 div.sk-label input.sk-toggleable__control:checked~label.sk-toggleable__label {background-color: #d4ebff;}#sk-container-id-2 input.sk-hidden--visually {border: 0;clip: rect(1px 1px 1px 1px);clip: rect(1px, 1px, 1px, 1px);height: 1px;margin: -1px;overflow: hidden;padding: 0;position: absolute;width: 1px;}#sk-container-id-2 div.sk-estimator {font-family: monospace;background-color: #f0f8ff;border: 1px dotted black;border-radius: 0.25em;box-sizing: border-box;margin-bottom: 0.5em;}#sk-container-id-2 div.sk-estimator:hover {background-color: #d4ebff;}#sk-container-id-2 div.sk-parallel-item::after {content: \"\";width: 100%;border-bottom: 1px solid gray;flex-grow: 1;}#sk-container-id-2 div.sk-label:hover label.sk-toggleable__label {background-color: #d4ebff;}#sk-container-id-2 div.sk-serial::before {content: \"\";position: absolute;border-left: 1px solid gray;box-sizing: border-box;top: 0;bottom: 0;left: 50%;z-index: 0;}#sk-container-id-2 div.sk-serial {display: flex;flex-direction: column;align-items: center;background-color: white;padding-right: 0.2em;padding-left: 0.2em;position: relative;}#sk-container-id-2 div.sk-item {position: relative;z-index: 1;}#sk-container-id-2 div.sk-parallel {display: flex;align-items: stretch;justify-content: center;background-color: white;position: relative;}#sk-container-id-2 div.sk-item::before, #sk-container-id-2 div.sk-parallel-item::before {content: \"\";position: absolute;border-left: 1px solid gray;box-sizing: border-box;top: 0;bottom: 0;left: 50%;z-index: -1;}#sk-container-id-2 div.sk-parallel-item {display: flex;flex-direction: column;z-index: 1;position: relative;background-color: white;}#sk-container-id-2 div.sk-parallel-item:first-child::after {align-self: flex-end;width: 50%;}#sk-container-id-2 div.sk-parallel-item:last-child::after {align-self: flex-start;width: 50%;}#sk-container-id-2 div.sk-parallel-item:only-child::after {width: 0;}#sk-container-id-2 div.sk-dashed-wrapped {border: 1px dashed gray;margin: 0 0.4em 0.5em 0.4em;box-sizing: border-box;padding-bottom: 0.4em;background-color: white;}#sk-container-id-2 div.sk-label label {font-family: monospace;font-weight: bold;display: inline-block;line-height: 1.2em;}#sk-container-id-2 div.sk-label-container {text-align: center;}#sk-container-id-2 div.sk-container {/* jupyter's `normalize.less` sets `[hidden] { display: none; }` but bootstrap.min.css set `[hidden] { display: none !important; }` so we also need the `!important` here to be able to override the default hidden behavior on the sphinx rendered scikit-learn.org. See: https://github.com/scikit-learn/scikit-learn/issues/21755 */display: inline-block !important;position: relative;}#sk-container-id-2 div.sk-text-repr-fallback {display: none;}</style><div id=\"sk-container-id-2\" class=\"sk-top-container\"><div class=\"sk-text-repr-fallback\"><pre>XGBClassifier(base_score=None, booster=None, callbacks=None,\n",
       "              colsample_bylevel=None, colsample_bynode=None,\n",
       "              colsample_bytree=None, device=None, early_stopping_rounds=None,\n",
       "              enable_categorical=False, eval_metric=&#x27;logloss&#x27;,\n",
       "              feature_types=None, gamma=None, grow_policy=None,\n",
       "              importance_type=None, interaction_constraints=None,\n",
       "              learning_rate=0.1, max_bin=None, max_cat_threshold=None,\n",
       "              max_cat_to_onehot=None, max_delta_step=None, max_depth=5,\n",
       "              max_leaves=None, min_child_weight=None, missing=nan,\n",
       "              monotone_constraints=None, multi_strategy=None, n_estimators=100,\n",
       "              n_jobs=None, num_parallel_tree=None, random_state=42, ...)</pre><b>In a Jupyter environment, please rerun this cell to show the HTML representation or trust the notebook. <br />On GitHub, the HTML representation is unable to render, please try loading this page with nbviewer.org.</b></div><div class=\"sk-container\" hidden><div class=\"sk-item\"><div class=\"sk-estimator sk-toggleable\"><input class=\"sk-toggleable__control sk-hidden--visually\" id=\"sk-estimator-id-2\" type=\"checkbox\" checked><label for=\"sk-estimator-id-2\" class=\"sk-toggleable__label sk-toggleable__label-arrow\">XGBClassifier</label><div class=\"sk-toggleable__content\"><pre>XGBClassifier(base_score=None, booster=None, callbacks=None,\n",
       "              colsample_bylevel=None, colsample_bynode=None,\n",
       "              colsample_bytree=None, device=None, early_stopping_rounds=None,\n",
       "              enable_categorical=False, eval_metric=&#x27;logloss&#x27;,\n",
       "              feature_types=None, gamma=None, grow_policy=None,\n",
       "              importance_type=None, interaction_constraints=None,\n",
       "              learning_rate=0.1, max_bin=None, max_cat_threshold=None,\n",
       "              max_cat_to_onehot=None, max_delta_step=None, max_depth=5,\n",
       "              max_leaves=None, min_child_weight=None, missing=nan,\n",
       "              monotone_constraints=None, multi_strategy=None, n_estimators=100,\n",
       "              n_jobs=None, num_parallel_tree=None, random_state=42, ...)</pre></div></div></div></div></div>"
      ],
      "text/plain": [
       "XGBClassifier(base_score=None, booster=None, callbacks=None,\n",
       "              colsample_bylevel=None, colsample_bynode=None,\n",
       "              colsample_bytree=None, device=None, early_stopping_rounds=None,\n",
       "              enable_categorical=False, eval_metric='logloss',\n",
       "              feature_types=None, gamma=None, grow_policy=None,\n",
       "              importance_type=None, interaction_constraints=None,\n",
       "              learning_rate=0.1, max_bin=None, max_cat_threshold=None,\n",
       "              max_cat_to_onehot=None, max_delta_step=None, max_depth=5,\n",
       "              max_leaves=None, min_child_weight=None, missing=nan,\n",
       "              monotone_constraints=None, multi_strategy=None, n_estimators=100,\n",
       "              n_jobs=None, num_parallel_tree=None, random_state=42, ...)"
      ]
     },
     "execution_count": 35,
     "metadata": {},
     "output_type": "execute_result"
    }
   ],
   "source": [
    "# Train XGBoost Model\n",
    "model = XGBClassifier(\n",
    "    n_estimators=100,\n",
    "    max_depth=5,\n",
    "    learning_rate=0.1,\n",
    "    scale_pos_weight=(y_train == 0).sum() / (y_train == 1).sum(),  # Balance classes\n",
    "    use_label_encoder=False,\n",
    "    eval_metric='logloss',\n",
    "    random_state=42\n",
    ")\n",
    "\n",
    "model.fit(X_train_resampled, y_train_resampled)"
   ]
  },
  {
   "cell_type": "code",
   "execution_count": 36,
   "id": "7cd8f160",
   "metadata": {
    "execution": {
     "iopub.execute_input": "2025-04-04T09:52:31.383598Z",
     "iopub.status.busy": "2025-04-04T09:52:31.383256Z",
     "iopub.status.idle": "2025-04-04T09:52:31.447714Z",
     "shell.execute_reply": "2025-04-04T09:52:31.446602Z"
    },
    "papermill": {
     "duration": 0.082811,
     "end_time": "2025-04-04T09:52:31.449766",
     "exception": false,
     "start_time": "2025-04-04T09:52:31.366955",
     "status": "completed"
    },
    "tags": []
   },
   "outputs": [],
   "source": [
    "# Predict Probabilities and Apply Custom Threshold\n",
    "y_probs = model.predict_proba(X_test)[:, 1]\n",
    "y_pred = (y_probs >= 0.3).astype(int)"
   ]
  },
  {
   "cell_type": "markdown",
   "id": "af58f9d9",
   "metadata": {
    "papermill": {
     "duration": 0.015257,
     "end_time": "2025-04-04T09:52:31.480913",
     "exception": false,
     "start_time": "2025-04-04T09:52:31.465656",
     "status": "completed"
    },
    "tags": []
   },
   "source": [
    "#### Evaluation matrix for XGBoost"
   ]
  },
  {
   "cell_type": "code",
   "execution_count": 37,
   "id": "e978d663",
   "metadata": {
    "execution": {
     "iopub.execute_input": "2025-04-04T09:52:31.514040Z",
     "iopub.status.busy": "2025-04-04T09:52:31.513645Z",
     "iopub.status.idle": "2025-04-04T09:52:31.954402Z",
     "shell.execute_reply": "2025-04-04T09:52:31.953081Z"
    },
    "papermill": {
     "duration": 0.459697,
     "end_time": "2025-04-04T09:52:31.956232",
     "exception": false,
     "start_time": "2025-04-04T09:52:31.496535",
     "status": "completed"
    },
    "tags": []
   },
   "outputs": [
    {
     "name": "stdout",
     "output_type": "stream",
     "text": [
      "Classification Report:\n",
      "               precision    recall  f1-score   support\n",
      "\n",
      "           0       1.00      0.96      0.98     17700\n",
      "           1       0.26      0.84      0.39       300\n",
      "\n",
      "    accuracy                           0.96     18000\n",
      "   macro avg       0.63      0.90      0.69     18000\n",
      "weighted avg       0.98      0.96      0.97     18000\n",
      "\n"
     ]
    },
    {
     "data": {
      "image/png": "[encoded data removed]",
      "text/plain": [
       "<Figure size 640x480 with 2 Axes>"
      ]
     },
     "metadata": {},
     "output_type": "display_data"
    },
    {
     "data": {
      "image/png": "[encoded data removed]",
      "text/plain": [
       "<Figure size 640x480 with 1 Axes>"
      ]
     },
     "metadata": {},
     "output_type": "display_data"
    },
    {
     "name": "stdout",
     "output_type": "stream",
     "text": [
      "ROC AUC Score: 0.9460\n"
     ]
    }
   ],
   "source": [
    "# Evaluation\n",
    "print(\"Classification Report:\\n\", classification_report(y_test, y_pred))\n",
    "\n",
    "cm = confusion_matrix(y_test, y_pred)\n",
    "sns.heatmap(cm, annot=True, fmt='d', cmap='Blues', xticklabels=['Negative', 'Positive'], yticklabels=['Negative', 'Positive'])\n",
    "plt.xlabel(\"Predicted\")\n",
    "plt.ylabel(\"Actual\")\n",
    "plt.title(\"Confusion Matrix\")\n",
    "plt.show()\n",
    "\n",
    "precision, recall, _ = precision_recall_curve(y_test, y_probs)\n",
    "plt.plot(recall, precision)\n",
    "plt.xlabel('Recall')\n",
    "plt.ylabel('Precision')\n",
    "plt.title('Precision-Recall Curve')\n",
    "plt.show()\n",
    "\n",
    "roc_auc = roc_auc_score(y_test, y_probs)\n",
    "print(f\"ROC AUC Score: {roc_auc:.4f}\")\n",
    "\n"
   ]
  },
  {
   "cell_type": "markdown",
   "id": "9b3f2ae5",
   "metadata": {
    "papermill": {
     "duration": 0.017542,
     "end_time": "2025-04-04T09:52:31.991690",
     "exception": false,
     "start_time": "2025-04-04T09:52:31.974148",
     "status": "completed"
    },
    "tags": []
   },
   "source": [
    "#### Train/Test Accuracy"
   ]
  },
  {
   "cell_type": "code",
   "execution_count": 38,
   "id": "ee2e5740",
   "metadata": {
    "execution": {
     "iopub.execute_input": "2025-04-04T09:52:32.026770Z",
     "iopub.status.busy": "2025-04-04T09:52:32.026377Z",
     "iopub.status.idle": "2025-04-04T09:52:32.178565Z",
     "shell.execute_reply": "2025-04-04T09:52:32.177257Z"
    },
    "papermill": {
     "duration": 0.171841,
     "end_time": "2025-04-04T09:52:32.180399",
     "exception": false,
     "start_time": "2025-04-04T09:52:32.008558",
     "status": "completed"
    },
    "tags": []
   },
   "outputs": [
    {
     "name": "stdout",
     "output_type": "stream",
     "text": [
      "Train Accuracy: 0.9885351089588378\n",
      "Test Accuracy: 0.9833333333333333\n"
     ]
    }
   ],
   "source": [
    "train_preds = model.predict(X_train_resampled)\n",
    "test_preds = model.predict(X_test_imputed)\n",
    "\n",
    "test_preds = np.where(test_preds == \"pos\", 1, 0)\n",
    "\n",
    "print(\"Train Accuracy:\", accuracy_score(y_train_resampled, train_preds))\n",
    "print(\"Test Accuracy:\", accuracy_score(y_test, test_preds))"
   ]
  },
  {
   "cell_type": "markdown",
   "id": "83f36e6d",
   "metadata": {
    "papermill": {
     "duration": 0.017426,
     "end_time": "2025-04-04T09:52:32.215262",
     "exception": false,
     "start_time": "2025-04-04T09:52:32.197836",
     "status": "completed"
    },
    "tags": []
   },
   "source": [
    "#### Evaluating Cost"
   ]
  },
  {
   "cell_type": "code",
   "execution_count": 39,
   "id": "62b67f42",
   "metadata": {
    "execution": {
     "iopub.execute_input": "2025-04-04T09:52:32.251519Z",
     "iopub.status.busy": "2025-04-04T09:52:32.251143Z",
     "iopub.status.idle": "2025-04-04T09:52:32.256701Z",
     "shell.execute_reply": "2025-04-04T09:52:32.255289Z"
    },
    "papermill": {
     "duration": 0.025218,
     "end_time": "2025-04-04T09:52:32.258317",
     "exception": false,
     "start_time": "2025-04-04T09:52:32.233099",
     "status": "completed"
    },
    "tags": []
   },
   "outputs": [
    {
     "name": "stdout",
     "output_type": "stream",
     "text": [
      "Total cost of repair of gradiend boost = Rs. 31240 /-\n"
     ]
    }
   ],
   "source": [
    "tp,fp,fn,tn=cm.ravel()\n",
    "Total_cost_gr = 10*fp + 500 *fn\n",
    "print(f\"Total cost of repair of gradiend boost = Rs. {Total_cost_gr} /-\")"
   ]
  },
  {
   "cell_type": "markdown",
   "id": "84c4f668",
   "metadata": {
    "papermill": {
     "duration": 0.016689,
     "end_time": "2025-04-04T09:52:32.292254",
     "exception": false,
     "start_time": "2025-04-04T09:52:32.275565",
     "status": "completed"
    },
    "tags": []
   },
   "source": [
    "#### Individual Metrics"
   ]
  },
  {
   "cell_type": "code",
   "execution_count": 40,
   "id": "51ecf72c",
   "metadata": {
    "execution": {
     "iopub.execute_input": "2025-04-04T09:52:32.327643Z",
     "iopub.status.busy": "2025-04-04T09:52:32.327287Z",
     "iopub.status.idle": "2025-04-04T09:52:32.392696Z",
     "shell.execute_reply": "2025-04-04T09:52:32.391429Z"
    },
    "papermill": {
     "duration": 0.085092,
     "end_time": "2025-04-04T09:52:32.394369",
     "exception": false,
     "start_time": "2025-04-04T09:52:32.309277",
     "status": "completed"
    },
    "tags": []
   },
   "outputs": [
    {
     "name": "stdout",
     "output_type": "stream",
     "text": [
      "\n",
      "🔍 Classification Report:\n",
      "              precision    recall  f1-score   support\n",
      "\n",
      "         neg       1.00      0.96      0.98     17700\n",
      "         pos       0.26      0.84      0.39       300\n",
      "\n",
      "    accuracy                           0.96     18000\n",
      "   macro avg       0.63      0.90      0.69     18000\n",
      "weighted avg       0.98      0.96      0.97     18000\n",
      "\n",
      "\n",
      "Precision (pos class): 0.2582\n",
      "Recall (pos class):    0.8400\n",
      "F1 Score:              0.3950\n",
      "ROC AUC Score:         0.9460\n"
     ]
    }
   ],
   "source": [
    "print(\"\\n🔍 Classification Report:\")\n",
    "print(classification_report(y_test, y_pred, target_names=['neg', 'pos']))\n",
    "\n",
    "precision = precision_score(y_test, y_pred)\n",
    "recall = recall_score(y_test, y_pred)\n",
    "f1 = f1_score(y_test, y_pred)\n",
    "roc_auc = roc_auc_score(y_test, y_probs)\n",
    "\n",
    "print(f\"\\nPrecision (pos class): {precision:.4f}\")\n",
    "print(f\"Recall (pos class):    {recall:.4f}\")\n",
    "print(f\"F1 Score:              {f1:.4f}\")\n",
    "print(f\"ROC AUC Score:         {roc_auc:.4f}\")"
   ]
  },
  {
   "cell_type": "code",
   "execution_count": 41,
   "id": "48943c5e",
   "metadata": {
    "execution": {
     "iopub.execute_input": "2025-04-04T09:52:32.430348Z",
     "iopub.status.busy": "2025-04-04T09:52:32.429931Z",
     "iopub.status.idle": "2025-04-04T09:52:32.734726Z",
     "shell.execute_reply": "2025-04-04T09:52:32.732942Z"
    },
    "papermill": {
     "duration": 0.325288,
     "end_time": "2025-04-04T09:52:32.737182",
     "exception": false,
     "start_time": "2025-04-04T09:52:32.411894",
     "status": "completed"
    },
    "tags": []
   },
   "outputs": [
    {
     "name": "stdout",
     "output_type": "stream",
     "text": [
      "Threshold: 0.00 -> Precision: 0.017, Recall: 1.000\n",
      "Threshold: 0.05 -> Precision: 0.093, Recall: 0.900\n",
      "Threshold: 0.10 -> Precision: 0.142, Recall: 0.873\n",
      "Threshold: 0.15 -> Precision: 0.180, Recall: 0.863\n",
      "Threshold: 0.20 -> Precision: 0.206, Recall: 0.853\n",
      "Threshold: 0.25 -> Precision: 0.234, Recall: 0.847\n",
      "Threshold: 0.30 -> Precision: 0.258, Recall: 0.840\n",
      "Threshold: 0.35 -> Precision: 0.277, Recall: 0.830\n",
      "Threshold: 0.40 -> Precision: 0.295, Recall: 0.830\n",
      "Threshold: 0.45 -> Precision: 0.311, Recall: 0.820\n",
      "Threshold: 0.50 -> Precision: 0.330, Recall: 0.810\n",
      "Threshold: 0.55 -> Precision: 0.347, Recall: 0.807\n",
      "Threshold: 0.60 -> Precision: 0.364, Recall: 0.787\n",
      "Threshold: 0.65 -> Precision: 0.382, Recall: 0.773\n",
      "Threshold: 0.70 -> Precision: 0.397, Recall: 0.737\n",
      "Threshold: 0.75 -> Precision: 0.418, Recall: 0.707\n",
      "Threshold: 0.80 -> Precision: 0.440, Recall: 0.667\n",
      "Threshold: 0.85 -> Precision: 0.500, Recall: 0.637\n",
      "Threshold: 0.90 -> Precision: 0.534, Recall: 0.597\n",
      "Threshold: 0.95 -> Precision: 0.555, Recall: 0.490\n"
     ]
    }
   ],
   "source": [
    "thresholds = np.arange(0, 1, 0.05)\n",
    "for thresh in thresholds:\n",
    "    temp_pred = (y_probs >= thresh).astype(int)\n",
    "    p = precision_score(y_test, temp_pred)\n",
    "    r = recall_score(y_test, temp_pred)\n",
    "    print(f\"Threshold: {thresh:.2f} -> Precision: {p:.3f}, Recall: {r:.3f}\")\n"
   ]
  },
  {
   "cell_type": "markdown",
   "id": "1ef2f808",
   "metadata": {
    "papermill": {
     "duration": 0.017377,
     "end_time": "2025-04-04T09:52:32.772898",
     "exception": false,
     "start_time": "2025-04-04T09:52:32.755521",
     "status": "completed"
    },
    "tags": []
   },
   "source": [
    "Report comparing the two models, focusing on key evaluation metrics and aligned with the goal of **minimizing false negatives** due to high cost:\n",
    "\n",
    "---\n",
    "\n",
    "## 🧾 **Model Comparison Report: Random Forest vs XGBoost**\n",
    "\n",
    "### 📌 **Objective**\n",
    "To evaluate two classification models (Random Forest and XGBoost) trained on a highly imbalanced dataset, where the **positive class comprises only 1.67%** of the data. The primary goal is to **minimize false negatives**, as they incur **high cost** in the business scenario.\n",
    "\n",
    "---\n",
    "\n",
    "### 🔍 **Scenario Overview**\n",
    "\n",
    "| Metric                        | **Scenario 1** (Random Forest) | **Scenario 2** (XGBoost) |\n",
    "|------------------------------|------------------------------|--------------------------|\n",
    "| **Training Accuracy**        | 100%                          | 99%                      |\n",
    "| **Testing Accuracy**         | 99%                           | 98%                      |\n",
    "| **Precision (Positive Class)** | **0.4835**                    | 0.2582                   |\n",
    "| **Recall (Positive Class)**    | **0.9164** ✅                 | 0.8400                   |\n",
    "| **F1 Score**                   | **0.6330**                    | 0.3950                   |\n",
    "| **ROC AUC Score**             | **0.9856**                    | 0.9460                   |\n",
    "\n",
    "---\n",
    "\n",
    "### 🧠 **Interpretation & Analysis**\n",
    "\n",
    "#### ✅ **Scenario 1 (Random Forest):**\n",
    "- Achieves **exceptional recall** of **91.6%**, meaning it successfully identifies the majority of positive cases — which is **critical** to reducing false negatives.\n",
    "- The precision of **48.35%** indicates that nearly **half of the predicted positives are correct**, a **reasonable trade-off** given the extreme class imbalance.\n",
    "- The **F1 score** and **ROC AUC** are both **significantly higher**, showing strong overall model balance and ability to separate classes.\n",
    "- The **training accuracy of 100%** may suggest slight overfitting, but the **excellent test performance** indicates that the model still generalizes well.\n",
    "\n",
    "#### ⚠️ **Scenario 2 (XGBoost):**\n",
    "- Delivers good performance with **84% recall**, but it falls short in minimizing false negatives compared to Scenario 1.\n",
    "- **Precision (25.82%)** is relatively low, meaning more false positives are being produced.\n",
    "- Lower **F1 score (0.3950)** and **ROC AUC (0.9460)** reflect reduced overall performance and less effective discrimination between classes.\n",
    "\n",
    "---\n",
    "\n",
    "### 🏁 **Conclusion**\n",
    "\n",
    "> **Scenario 1 (Random Forest)** is the preferred model based on:\n",
    "- Superior **recall**, ensuring most positive cases are detected\n",
    "- Higher **precision**, **F1 score**, and **AUC**, indicating better balance and performance\n",
    "- Best alignment with business objective: **reducing false negatives**\n",
    "\n",
    "---\n",
    "\n",
    "### 📌 **Recommendation**\n",
    "- Proceed with **Random Forest (Scenario 1)**.\n",
    "- Continue monitoring performance on unseen data using cross-validation or out-of-fold validation.\n",
    "- Consider further optimizing the threshold or applying cost-sensitive evaluation to fine-tune the trade-off between false positives and false negatives.\n"
   ]
  }
 ],
 "metadata": {
  "kaggle": {
   "accelerator": "none",
   "dataSources": [
    {
     "datasetId": 13327,
     "sourceId": 18366,
     "sourceType": "datasetVersion"
    }
   ],
   "dockerImageVersionId": 30918,
   "isGpuEnabled": false,
   "isInternetEnabled": false,
   "language": "python",
   "sourceType": "notebook"
  },
  "kernelspec": {
   "display_name": "Python 3",
   "language": "python",
   "name": "python3"
  },
  "language_info": {
   "codemirror_mode": {
    "name": "ipython",
    "version": 3
   },
   "file_extension": ".py",
   "mimetype": "text/x-python",
   "name": "python",
   "nbconvert_exporter": "python",
   "pygments_lexer": "ipython3",
   "version": "3.10.12"
  },
  "papermill": {
   "default_parameters": {},
   "duration": 158.254992,
   "end_time": "2025-04-04T09:52:33.711412",
   "environment_variables": {},
   "exception": null,
   "input_path": "__notebook__.ipynb",
   "output_path": "__notebook__.ipynb",
   "parameters": {},
   "start_time": "2025-04-04T09:49:55.456420",
   "version": "2.6.0"
  }
 },
 "nbformat": 4,
 "nbformat_minor": 5
}
